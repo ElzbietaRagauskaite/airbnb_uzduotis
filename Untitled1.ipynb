{
 "cells": [
  {
   "cell_type": "code",
   "execution_count": 79,
   "id": "55d8a525-9160-42d2-ba7e-5e6025a9a535",
   "metadata": {},
   "outputs": [],
   "source": [
    "from datetime import date"
   ]
  },
  {
   "cell_type": "code",
   "execution_count": 3,
   "id": "1cdf72fc-e256-49f8-ba28-c206a47ff787",
   "metadata": {},
   "outputs": [],
   "source": [
    "import matplotlib.pyplot as plt\n",
    "import pandas as pd\n",
    "import numpy as np\n",
    "import pathlib\n",
    "failas1 = pathlib.Path.joinpath(pathlib.Path.home(), \"Desktop\", \"biod2021\",'viena', 'listings.csv')\n",
    "listings = pd.read_csv(\n",
    "   failas1, index_col=\"id\")\n",
    "\n",
    "failas2 = pathlib.Path.joinpath(pathlib.Path.home(), \"Desktop\", \"biod2021\",'viena', 'listings2.csv')\n",
    "listings_details = pd.read_csv(\n",
    "    failas2,\n",
    "    index_col=\"id\",\n",
    "    low_memory=False,)\n",
    "\n",
    "failas3 = pathlib.Path.joinpath(pathlib.Path.home(), \"Desktop\", \"biod2021\",'viena', 'calendar.csv.gz')\n",
    "calendar = pd.read_csv(\n",
    "    failas3,\n",
    "    parse_dates=[\"date\"],\n",
    "    index_col=[\"listing_id\"],)\n",
    "\n",
    "failas4 = pathlib.Path.joinpath(pathlib.Path.home(), \"Desktop\", \"biod2021\",'viena', 'reviews.csv')\n",
    "reviews = pd.read_csv(\n",
    "   failas4,\n",
    "    parse_dates=[\"date\"],\n",
    "    index_col=[\"listing_id\"],)\n",
    "\n",
    "failas5 = pathlib.Path.joinpath(pathlib.Path.home(), \"Desktop\", \"biod2021\",'viena', 'reviews.csv.gz')\n",
    "reviews_details = pd.read_csv(\n",
    "    failas5,\n",
    "    parse_dates=[\"date\"],\n",
    "    index_col=[\"listing_id\"],)\n",
    "\n",
    "pd.set_option(\"display.max_column\", 500)\n",
    "pd.set_option(\"display.max_rows\", 500)\n",
    "pd.set_option(\"display.max_seq_items\", 500)\n",
    "pd.set_option(\"display.max_colwidth\", 500)\n",
    "pd.set_option(\"expand_frame_repr\", True)\n",
    "\n",
    "\n",
    "target_columns = [\n",
    "    \"property_type\",\n",
    "    \"accommodates\",\n",
    "    \"first_review\",\n",
    "    \"review_scores_value\",\n",
    "    \"review_scores_cleanliness\",\n",
    "    \"review_scores_location\",\n",
    "    \"review_scores_accuracy\",\n",
    "    \"review_scores_communication\",\n",
    "    \"review_scores_checkin\",\n",
    "    \"review_scores_rating\",\n",
    "    \"maximum_nights\",\n",
    "    \"listing_url\",\n",
    "    \"host_is_superhost\",\n",
    "    \"host_about\",\n",
    "    \"host_response_time\",\n",
    "    \"host_response_rate\",\n",
    "    \"host_since\", \n",
    "    \"host_verifications\",\n",
    "    \"amenities\",\n",
    "    \"accommodates\"\n",
    "]\n",
    "listings = pd.merge(\n",
    "    listings, listings_details[target_columns], on=\"id\", how=\"left\")\n",
    "listings = listings.drop(columns=[\"neighbourhood_group\"])\n",
    "listings[\"host_response_rate\"] = pd.to_numeric(\n",
    "    listings[\"host_response_rate\"].str.strip(\"%\"))"
   ]
  },
  {
   "cell_type": "code",
   "execution_count": 4,
   "id": "64dad717-567a-4d02-bfdd-4c8f2cc2d936",
   "metadata": {},
   "outputs": [
    {
     "data": {
      "text/plain": [
       "Index(['name', 'host_id', 'host_name', 'neighbourhood', 'latitude',\n",
       "       'longitude', 'room_type', 'price', 'minimum_nights',\n",
       "       'number_of_reviews', 'last_review', 'reviews_per_month',\n",
       "       'calculated_host_listings_count', 'availability_365',\n",
       "       'number_of_reviews_ltm', 'license', 'property_type', 'accommodates',\n",
       "       'first_review', 'review_scores_value', 'review_scores_cleanliness',\n",
       "       'review_scores_location', 'review_scores_accuracy',\n",
       "       'review_scores_communication', 'review_scores_checkin',\n",
       "       'review_scores_rating', 'maximum_nights', 'listing_url',\n",
       "       'host_is_superhost', 'host_about', 'host_response_time',\n",
       "       'host_response_rate', 'host_since', 'host_verifications', 'amenities',\n",
       "       'accommodates'],\n",
       "      dtype='object')"
      ]
     },
     "execution_count": 4,
     "metadata": {},
     "output_type": "execute_result"
    }
   ],
   "source": [
    "listings.columns"
   ]
  },
  {
   "cell_type": "markdown",
   "id": "999ac3b1-a5ea-48be-9249-dd60ac48f745",
   "metadata": {},
   "source": [
    ">> 1. Top 10 savininkų (daugiausiai nuomoja, uždirba)\n",
    "- daugiausiai nuomoja"
   ]
  },
  {
   "cell_type": "code",
   "execution_count": 5,
   "id": "9b7c1981-56b5-4a01-9c8f-84b287054af4",
   "metadata": {},
   "outputs": [
    {
     "name": "stdout",
     "output_type": "stream",
     "text": [
      "        host_id  count\n",
      "6382  378060726    243\n",
      "1362   15935294     80\n",
      "870     8632750     79\n",
      "302     2816192     67\n",
      "56       757295     61\n",
      "6459  404652017     61\n",
      "2026   27775775     52\n",
      "5101  195648200     50\n",
      "613     5874520     46\n",
      "6402  385064248     45\n",
      "Svetlana\n",
      "Vienna Residence\n",
      "Andreas\n",
      "Martin\n",
      "Khurshed\n",
      "Ali\n",
      "Rene\n",
      "Carolyn - Travanto\n",
      "AdInfinitum    Philip Beata\n",
      "Blueground\n"
     ]
    }
   ],
   "source": [
    "top10Id = (\n",
    "    listings.groupby([\"host_id\"])[\"host_name\"]\n",
    "    .count()\n",
    "    .reset_index(name=\"count\")\n",
    "    .sort_values(by=\"count\", ascending=False)\n",
    "    .head(10)\n",
    ")\n",
    "print(top10Id)\n",
    "\n",
    "\n",
    "for t_id in top10Id[\"host_id\"].to_numpy():\n",
    "    print(listings.loc[listings[\"host_id\"] == t_id].iloc[1, 2])"
   ]
  },
  {
   "cell_type": "markdown",
   "id": "d3b55f86-775c-4522-b796-788bea1dfe42",
   "metadata": {},
   "source": [
    "- uždirba"
   ]
  },
  {
   "cell_type": "code",
   "execution_count": 6,
   "id": "54da97a0-fe68-4eb9-a483-e904c1105cbf",
   "metadata": {},
   "outputs": [
    {
     "name": "stdout",
     "output_type": "stream",
     "text": [
      "Aliz uzdirba 20794\n",
      "Svetlana uzdirba 13432\n",
      "Bianca & Paul uzdirba 12110\n",
      "Ali uzdirba 11698\n",
      "Andreas uzdirba 8992\n",
      "Vienna Residence uzdirba 7997\n",
      "Glorija Immobilien uzdirba 7863\n",
      "Carolyn - Travanto uzdirba 7209\n",
      "Team Richard uzdirba 5324\n",
      "Isabelle uzdirba 5085\n"
     ]
    }
   ],
   "source": [
    "top100Id = (\n",
    "    listings.groupby([\"host_id\"])[\"host_name\"]\n",
    "    .count()\n",
    "    .reset_index(name=\"count\")\n",
    "    .sort_values(by=\"count\", ascending=False)\n",
    "    .head(100))\n",
    "top100Id.head()\n",
    "\n",
    "\n",
    "cummulative_sum = (\n",
    "    listings[listings[\"host_id\"].isin(top100Id[\"host_id\"])]\n",
    "    .groupby(\"host_id\")[\"price\"]\n",
    "    .sum()\n",
    "    .sort_values(ascending=False)\n",
    "    .head(10))\n",
    "cummulative_sum.head()\n",
    "\n",
    "\n",
    "for c_id, c_sum in zip(cummulative_sum.index.to_numpy(), cummulative_sum.to_numpy()):\n",
    "    print(f'{listings.loc[listings[\"host_id\"] == c_id].iloc[1, 2]} uzdirba {c_sum}')"
   ]
  },
  {
   "cell_type": "markdown",
   "id": "6cb17644-72dd-4a29-b34f-49a9864d9131",
   "metadata": {},
   "source": [
    ">>  2. Kaip dienos kaina kinta jeigu nuomojamasi savaitei/mėnesiui/dienai (listings) "
   ]
  },
  {
   "cell_type": "code",
   "execution_count": 8,
   "id": "ec9d2ab9-3266-46b8-a27b-c45e405a26c4",
   "metadata": {},
   "outputs": [
    {
     "data": {
      "text/plain": [
       "id\n",
       "15883    120\n",
       "38768     65\n",
       "40625     88\n",
       "51287     60\n",
       "70637     50\n",
       "Name: price, dtype: int64"
      ]
     },
     "execution_count": 8,
     "metadata": {},
     "output_type": "execute_result"
    }
   ],
   "source": [
    "#duomenyse yra tik kaina dienai\n",
    "\n",
    "listings.columns\n",
    "listings.price.head()"
   ]
  },
  {
   "cell_type": "code",
   "execution_count": 9,
   "id": "79b40576-4865-4f1d-8c32-ba8c05a1b957",
   "metadata": {},
   "outputs": [
    {
     "data": {
      "text/plain": [
       "80.37399637399638"
      ]
     },
     "execution_count": 9,
     "metadata": {},
     "output_type": "execute_result"
    }
   ],
   "source": [
    "listings.price.mean()"
   ]
  },
  {
   "cell_type": "markdown",
   "id": "a493cfda-d7a4-437f-a4e0-5d4f12bef2e1",
   "metadata": {},
   "source": [
    ">> 3. Kaip kaina priklauso nuo vietos mieste įvertinimo? Švaros? ir t.t"
   ]
  },
  {
   "cell_type": "code",
   "execution_count": 11,
   "id": "7177bf3c-080a-4c51-a206-5d9017dcaf31",
   "metadata": {
    "tags": []
   },
   "outputs": [
    {
     "data": {
      "text/plain": [
       "Text(0, 0.5, 'price')"
      ]
     },
     "execution_count": 11,
     "metadata": {},
     "output_type": "execute_result"
    },
    {
     "data": {
      "image/png": "[encoded data removed]",
      "text/plain": [
       "<Figure size 432x288 with 1 Axes>"
      ]
     },
     "metadata": {
      "needs_background": "light"
     },
     "output_type": "display_data"
    }
   ],
   "source": [
    "plt.scatter(listings.review_scores_location, listings.price)\n",
    "plt.xlabel(\"review_scores_location\")\n",
    "plt.ylabel(\"price\")"
   ]
  },
  {
   "cell_type": "code",
   "execution_count": 12,
   "id": "c75bab56-fbe3-43d8-8a8d-5afd5deb611a",
   "metadata": {
    "collapsed": true,
    "jupyter": {
     "outputs_hidden": true
    },
    "tags": []
   },
   "outputs": [
    {
     "data": {
      "text/plain": [
       "review_scores_location\n",
       "0.00     42.000000\n",
       "1.00     71.388889\n",
       "2.00     60.142857\n",
       "2.50     58.333333\n",
       "2.67    125.000000\n",
       "2.75     13.000000\n",
       "2.83     95.000000\n",
       "3.00     81.104167\n",
       "3.25     38.000000\n",
       "3.33     75.250000\n",
       "3.38     39.000000\n",
       "3.40     72.000000\n",
       "3.46     55.000000\n",
       "3.50     73.222222\n",
       "3.54     10.000000\n",
       "3.57     36.500000\n",
       "3.60     45.000000\n",
       "3.67    107.142857\n",
       "3.71     69.000000\n",
       "3.73     45.000000\n",
       "3.75    841.250000\n",
       "3.80     42.500000\n",
       "3.83     61.666667\n",
       "3.86     40.000000\n",
       "3.88     58.666667\n",
       "3.89    104.000000\n",
       "3.91     40.000000\n",
       "3.92     10.000000\n",
       "3.93     14.000000\n",
       "3.94     60.500000\n",
       "3.95    125.000000\n",
       "4.00    112.677656\n",
       "4.05     62.500000\n",
       "4.06     40.000000\n",
       "4.08     82.400000\n",
       "4.09     45.000000\n",
       "4.10     71.250000\n",
       "4.11     53.250000\n",
       "4.12     60.500000\n",
       "4.13     45.500000\n",
       "4.14     63.444444\n",
       "4.15     60.500000\n",
       "4.16     41.333333\n",
       "4.17     54.450000\n",
       "4.18     52.571429\n",
       "4.19     52.000000\n",
       "4.20     53.935484\n",
       "4.21     52.666667\n",
       "4.22     59.916667\n",
       "4.23     48.625000\n",
       "4.24     43.000000\n",
       "4.25     91.228571\n",
       "4.26     56.250000\n",
       "4.27     57.666667\n",
       "4.28     44.000000\n",
       "4.29     52.277778\n",
       "4.30     63.266667\n",
       "4.31     75.600000\n",
       "4.32     56.250000\n",
       "4.33     57.765306\n",
       "4.34     42.250000\n",
       "4.35     50.466667\n",
       "4.36     63.562500\n",
       "4.37     51.000000\n",
       "4.38     68.214286\n",
       "4.39     39.777778\n",
       "4.40     59.159091\n",
       "4.41     51.666667\n",
       "4.42     60.928571\n",
       "4.43     53.702703\n",
       "4.44     62.208333\n",
       "4.45     58.153846\n",
       "4.46     54.296296\n",
       "4.47     59.066667\n",
       "4.48     74.560000\n",
       "4.49     55.266667\n",
       "4.50     65.703390\n",
       "4.51     53.562500\n",
       "4.52     66.818182\n",
       "4.53     72.800000\n",
       "4.54     56.589744\n",
       "4.55     61.839286\n",
       "4.56     62.258621\n",
       "4.57     60.772727\n",
       "4.58     55.723404\n",
       "4.59     57.612903\n",
       "4.60     90.807692\n",
       "4.61     88.296296\n",
       "4.62     64.625000\n",
       "4.63     61.152174\n",
       "4.64     70.294118\n",
       "4.65     56.720588\n",
       "4.66     59.111111\n",
       "4.67     64.752613\n",
       "4.68     56.982759\n",
       "4.69     69.848837\n",
       "4.70     58.863636\n",
       "4.71     65.607143\n",
       "4.72     56.253521\n",
       "4.73     73.689320\n",
       "4.74     68.898734\n",
       "4.75     63.400000\n",
       "4.76     86.441860\n",
       "4.77     69.019802\n",
       "4.78     65.936000\n",
       "4.79     70.083333\n",
       "4.80     63.120536\n",
       "4.81     76.057143\n",
       "4.82     75.630435\n",
       "4.83     67.593607\n",
       "4.84     85.552083\n",
       "4.85     68.027027\n",
       "4.86     69.558011\n",
       "4.87     74.285714\n",
       "4.88     74.738693\n",
       "4.89     70.682119\n",
       "4.90     85.120301\n",
       "4.91     78.289062\n",
       "4.92     79.864000\n",
       "4.93     73.352000\n",
       "4.94     91.214286\n",
       "4.95    100.768519\n",
       "4.96     94.523364\n",
       "4.97     95.083333\n",
       "4.98    122.609375\n",
       "4.99    118.651163\n",
       "5.00     91.207192\n",
       "Name: price, dtype: float64"
      ]
     },
     "execution_count": 12,
     "metadata": {},
     "output_type": "execute_result"
    }
   ],
   "source": [
    "listings.groupby(\"review_scores_location\").price.mean()"
   ]
  },
  {
   "cell_type": "code",
   "execution_count": 13,
   "id": "05234753-20fa-4301-b272-b9db0de79e33",
   "metadata": {},
   "outputs": [
    {
     "data": {
      "text/plain": [
       "<AxesSubplot:title={'center':'price'}, xlabel='review_scores_location'>"
      ]
     },
     "execution_count": 13,
     "metadata": {},
     "output_type": "execute_result"
    },
    {
     "data": {
      "image/png": "[encoded data removed]",
      "text/plain": [
       "<Figure size 432x288 with 1 Axes>"
      ]
     },
     "metadata": {
      "needs_background": "light"
     },
     "output_type": "display_data"
    }
   ],
   "source": [
    "listings.boxplot(column=\"price\", by=\"review_scores_location\")"
   ]
  },
  {
   "cell_type": "code",
   "execution_count": 14,
   "id": "c1f47395-8f12-4df7-b431-b038bc983b6f",
   "metadata": {},
   "outputs": [
    {
     "data": {
      "text/plain": [
       "<AxesSubplot:title={'center':'price'}, xlabel='review_scores_cleanliness'>"
      ]
     },
     "execution_count": 14,
     "metadata": {},
     "output_type": "execute_result"
    },
    {
     "data": {
      "image/png": "[encoded data removed]",
      "text/plain": [
       "<Figure size 432x288 with 1 Axes>"
      ]
     },
     "metadata": {
      "needs_background": "light"
     },
     "output_type": "display_data"
    }
   ],
   "source": [
    "listings.boxplot(column=\"price\", by=\"review_scores_cleanliness\")"
   ]
  },
  {
   "cell_type": "markdown",
   "id": "75142204-4fbb-4ae2-aaab-f504efc2953c",
   "metadata": {},
   "source": [
    ">> 4. Rasti savininkus įvardintus kaip 'superhosts'. Kokią dalį visų savininku jie sudaro?"
   ]
  },
  {
   "cell_type": "code",
   "execution_count": 16,
   "id": "3477faff-9efd-44b7-8248-f030e3ed7bc8",
   "metadata": {},
   "outputs": [
    {
     "data": {
      "text/plain": [
       "101"
      ]
     },
     "execution_count": 16,
     "metadata": {},
     "output_type": "execute_result"
    }
   ],
   "source": [
    "listings.host_is_superhost.isnull().sum()"
   ]
  },
  {
   "cell_type": "code",
   "execution_count": 17,
   "id": "8f86c4fb-1e18-4a78-bc8a-c2a7778db270",
   "metadata": {},
   "outputs": [
    {
     "data": {
      "text/plain": [
       "11583"
      ]
     },
     "execution_count": 17,
     "metadata": {},
     "output_type": "execute_result"
    }
   ],
   "source": [
    "total = listings.host_is_superhost.shape[0]\n",
    "total"
   ]
  },
  {
   "cell_type": "code",
   "execution_count": 18,
   "id": "56eda2a1-2113-477e-8f30-8f5c53313ac8",
   "metadata": {},
   "outputs": [
    {
     "data": {
      "text/plain": [
       "2954.0"
      ]
     },
     "execution_count": 18,
     "metadata": {},
     "output_type": "execute_result"
    }
   ],
   "source": [
    "superhosts = listings.host_is_superhost.str.count(r\"t\").sum()\n",
    "superhosts"
   ]
  },
  {
   "cell_type": "code",
   "execution_count": 19,
   "id": "41535bbb-a13c-49e8-abd9-071df4d7422c",
   "metadata": {},
   "outputs": [
    {
     "name": "stdout",
     "output_type": "stream",
     "text": [
      " Super hosts are 25.5% of all the landlords\n"
     ]
    }
   ],
   "source": [
    "print(f\" Super hosts are {superhosts/total*100:.3}% of all the landlords\")"
   ]
  },
  {
   "cell_type": "markdown",
   "id": "95d3cc28-c447-429c-85ea-adf8c73ac186",
   "metadata": {},
   "source": [
    ">> 5. Ilgiausias komentaras (reviews_details)"
   ]
  },
  {
   "cell_type": "code",
   "execution_count": 22,
   "id": "86440869-6119-40d0-b6f2-2df00df4e5ee",
   "metadata": {},
   "outputs": [
    {
     "data": {
      "text/plain": [
       "\"If you need a clean, comfortable place to stay in Vienna, search no more - Eva's B&B is THE place to go!  It is located in Donau area, very close to the airport and in the proximity of the main shopping centre.  The room I stayed was spacious and spotlessly clean.  These, however, are not the best yet - Eva is a great host, warm, friendly and helpful.  I will, without doubt, stay at this B&B again in my next trip to Vienna.\""
      ]
     },
     "execution_count": 22,
     "metadata": {},
     "output_type": "execute_result"
    }
   ],
   "source": [
    "reviews_details.comments.iloc[0]"
   ]
  },
  {
   "cell_type": "code",
   "execution_count": 23,
   "id": "a7903a87-6ac2-47f8-b0d9-f9ef18c23f36",
   "metadata": {},
   "outputs": [
    {
     "data": {
      "text/plain": [
       "427"
      ]
     },
     "execution_count": 23,
     "metadata": {},
     "output_type": "execute_result"
    }
   ],
   "source": [
    "len(reviews_details.comments.iloc[0])"
   ]
  },
  {
   "cell_type": "code",
   "execution_count": 24,
   "id": "f5340038-83f3-4dd3-b32e-690f88335d86",
   "metadata": {},
   "outputs": [
    {
     "data": {
      "text/plain": [
       "listing_id\n",
       "33890438    6243.0\n",
       "5314551     5402.0\n",
       "322786      5352.0\n",
       "28269415    5223.0\n",
       "44269873    5161.0\n",
       "Name: comments, dtype: float64"
      ]
     },
     "execution_count": 24,
     "metadata": {},
     "output_type": "execute_result"
    }
   ],
   "source": [
    "#listing id su ilgiausiais komentarais\n",
    "reviews_details.comments.str.len().sort_values(ascending=False).head()"
   ]
  },
  {
   "cell_type": "code",
   "execution_count": 25,
   "id": "efda99dd-104c-4424-95a4-e6d4ff718e9c",
   "metadata": {
    "collapsed": true,
    "jupyter": {
     "outputs_hidden": true
    },
    "tags": []
   },
   "outputs": [
    {
     "data": {
      "text/html": [
       "<div>\n",
       "<style scoped>\n",
       "    .dataframe tbody tr th:only-of-type {\n",
       "        vertical-align: middle;\n",
       "    }\n",
       "\n",
       "    .dataframe tbody tr th {\n",
       "        vertical-align: top;\n",
       "    }\n",
       "\n",
       "    .dataframe thead th {\n",
       "        text-align: right;\n",
       "    }\n",
       "</style>\n",
       "<table border=\"1\" class=\"dataframe\">\n",
       "  <thead>\n",
       "    <tr style=\"text-align: right;\">\n",
       "      <th></th>\n",
       "      <th>id</th>\n",
       "      <th>date</th>\n",
       "      <th>reviewer_id</th>\n",
       "      <th>reviewer_name</th>\n",
       "      <th>comments</th>\n",
       "    </tr>\n",
       "    <tr>\n",
       "      <th>listing_id</th>\n",
       "      <th></th>\n",
       "      <th></th>\n",
       "      <th></th>\n",
       "      <th></th>\n",
       "      <th></th>\n",
       "    </tr>\n",
       "  </thead>\n",
       "  <tbody>\n",
       "    <tr>\n",
       "      <th>33890438</th>\n",
       "      <td>445973626</td>\n",
       "      <td>2019-04-30</td>\n",
       "      <td>14107672</td>\n",
       "      <td>Tina</td>\n",
       "      <td>Apartment was great, super clean and you can find everything that you need.</td>\n",
       "    </tr>\n",
       "    <tr>\n",
       "      <th>33890438</th>\n",
       "      <td>446421272</td>\n",
       "      <td>2019-05-01</td>\n",
       "      <td>129364311</td>\n",
       "      <td>Samir</td>\n",
       "      <td>Great visit, 5/5 Stars :)</td>\n",
       "    </tr>\n",
       "    <tr>\n",
       "      <th>33890438</th>\n",
       "      <td>449339312</td>\n",
       "      <td>2019-05-06</td>\n",
       "      <td>31016918</td>\n",
       "      <td>Pierre-Yves</td>\n",
       "      <td>Très bon emplacement : transports en commun à deux pas, pour rejoindre en quelques minutes le centre de Vienne, les commerces d’alimentation sont très proches, et la rue est très calme.&lt;br/&gt;Appartement lumineux, spacieux (pour un couple), très propre, bien équipé (aménagement neuf). Mention particulière pour la (grande) chambre et son (grand et très confortable) lit ! Belle salle de bain également. Certes, pas de contact particulier, personnalisé, avec les hôtes, mais récupération et dépôt d...</td>\n",
       "    </tr>\n",
       "    <tr>\n",
       "      <th>33890438</th>\n",
       "      <td>450392169</td>\n",
       "      <td>2019-05-09</td>\n",
       "      <td>14195102</td>\n",
       "      <td>Gail</td>\n",
       "      <td>Great space - very accommodating team  (appreciated the extra touch of airport transfer) this was a last minute booking on my part so I appreciated the constant and quick contact - The space is very large (by EU standards) and very clean and comfortable  - I was only there less than 24 hours but I would definitely stay again.</td>\n",
       "    </tr>\n",
       "    <tr>\n",
       "      <th>33890438</th>\n",
       "      <td>452489528</td>\n",
       "      <td>2019-05-13</td>\n",
       "      <td>4210458</td>\n",
       "      <td>Peter Refsing</td>\n",
       "      <td>Very nice and comfortable flat. Perfect as a base for visiting the city as a tourist or for work.</td>\n",
       "    </tr>\n",
       "    <tr>\n",
       "      <th>33890438</th>\n",
       "      <td>455028185</td>\n",
       "      <td>2019-05-19</td>\n",
       "      <td>103744936</td>\n",
       "      <td>Olga</td>\n",
       "      <td>Enjoyed our stay! The bed was comfy, they had tea in the cabinets which made us feel right at home. Very clean and spacious accommodations.</td>\n",
       "    </tr>\n",
       "    <tr>\n",
       "      <th>33890438</th>\n",
       "      <td>457524740</td>\n",
       "      <td>2019-05-24</td>\n",
       "      <td>248576099</td>\n",
       "      <td>David</td>\n",
       "      <td>Great stay, very nice apartment.</td>\n",
       "    </tr>\n",
       "    <tr>\n",
       "      <th>33890438</th>\n",
       "      <td>463509677</td>\n",
       "      <td>2019-06-03</td>\n",
       "      <td>163012304</td>\n",
       "      <td>Natalia</td>\n",
       "      <td>Гостеприимные, ответственные хозяева. Всегда придут на помощь и уладят все проблемы, остались очень довольны.</td>\n",
       "    </tr>\n",
       "    <tr>\n",
       "      <th>33890438</th>\n",
       "      <td>467433422</td>\n",
       "      <td>2019-06-10</td>\n",
       "      <td>212086551</td>\n",
       "      <td>Julian</td>\n",
       "      <td>Wir waren mit der Unterkunft mehr als zufrieden. Die Wohnung wurde noch einmal blitzsauber gereinigt und früher zur Verfügung gestellt als angekündigt. &lt;br/&gt;&lt;br/&gt;Polina und ihr Kollege haben uns immer sofort geantwortet und sind all unseren Wünschen sofort nachgekommen. Wir würden uns freuen noch einmal ihr Gast zu sein.</td>\n",
       "    </tr>\n",
       "    <tr>\n",
       "      <th>33890438</th>\n",
       "      <td>468837200</td>\n",
       "      <td>2019-06-13</td>\n",
       "      <td>119726922</td>\n",
       "      <td>Philipp</td>\n",
       "      <td>The apartment is spacious, clean and stylish. In the neighborhood are restaurants, supermarkets and public transportation stations. We can recommend the apartment to everyone!</td>\n",
       "    </tr>\n",
       "    <tr>\n",
       "      <th>33890438</th>\n",
       "      <td>470452793</td>\n",
       "      <td>2019-06-16</td>\n",
       "      <td>607885</td>\n",
       "      <td>Елена</td>\n",
       "      <td>Отличные апартаменты, недалеко от вокзала ( 20 мин пешком или 3-я остановка на трамвае, остановка рядимо). Никаких проблем ни с общением, ни с заселением. Есть все необходимое для комфортного проживания. Также есть Стиральная машина. В квартире всегда слегка прохладно, несмотря на жару на улице.</td>\n",
       "    </tr>\n",
       "    <tr>\n",
       "      <th>33890438</th>\n",
       "      <td>476503522</td>\n",
       "      <td>2019-06-26</td>\n",
       "      <td>176445413</td>\n",
       "      <td>Malt</td>\n",
       "      <td>Coup de coeur pour cet appartement qui vaut le prix de la location: extrêmement propre (neuf), classe, spacieux bien agencé et super bien équipé (cuisine, frigo et congel), lit et canap hyper confortables, + appart frais pendant les fortes chaleurs car haut de plafond et dans un immeuble très calme.&lt;br/&gt;Sans compter que le quartier est à côté des jardins du belvédère, et super bien desservi par le tram et rennweg à 2 minutes!</td>\n",
       "    </tr>\n",
       "    <tr>\n",
       "      <th>33890438</th>\n",
       "      <td>480167868</td>\n",
       "      <td>2019-07-02</td>\n",
       "      <td>32029441</td>\n",
       "      <td>Petter</td>\n",
       "      <td>Great apartment, with a great location. The place is quite big and very clean, and the hosts were quick to respond to our messages, even though we had a late booking. Only a few minutes away from essential shopping, and Belvedere Palace. Would definitely stay here again!</td>\n",
       "    </tr>\n",
       "    <tr>\n",
       "      <th>33890438</th>\n",
       "      <td>480735725</td>\n",
       "      <td>2019-07-03</td>\n",
       "      <td>271226086</td>\n",
       "      <td>Manfred</td>\n",
       "      <td>Apartment ist sehr schön und sauber. Alles vorhanden was man braucht. Lage ist ruhig. Sehr freundlicher Kontakt. Schnelle Rückmeldungen. Check-In und Check-out sehr einfach und unkompliziert. Einkaufsmöglichkeiten und Öffis in ein paar Minuten erreichbar. Alles top.</td>\n",
       "    </tr>\n",
       "    <tr>\n",
       "      <th>33890438</th>\n",
       "      <td>482176236</td>\n",
       "      <td>2019-07-06</td>\n",
       "      <td>84097004</td>\n",
       "      <td>Alex</td>\n",
       "      <td>Beautiful apartments to stay in Vienna. Clean, comfortable, quiet, everything was in place. Close to transport. Very special place.</td>\n",
       "    </tr>\n",
       "    <tr>\n",
       "      <th>33890438</th>\n",
       "      <td>483952790</td>\n",
       "      <td>2019-07-08</td>\n",
       "      <td>71639356</td>\n",
       "      <td>Alina</td>\n",
       "      <td>I would like to stay here in my next visit. Nice place and perfect apartment. I recommend</td>\n",
       "    </tr>\n",
       "    <tr>\n",
       "      <th>33890438</th>\n",
       "      <td>486104915</td>\n",
       "      <td>2019-07-12</td>\n",
       "      <td>57693037</td>\n",
       "      <td>Alec</td>\n",
       "      <td>Well kept, easily accessible flat with all the amenities. Will recommend to anyone looking to stay in Vienna. Rooms were clean and spacious.</td>\n",
       "    </tr>\n",
       "    <tr>\n",
       "      <th>33890438</th>\n",
       "      <td>488559950</td>\n",
       "      <td>2019-07-15</td>\n",
       "      <td>131482695</td>\n",
       "      <td>Peter</td>\n",
       "      <td>Beautiful and newly renovated apartment with good access to public transportation</td>\n",
       "    </tr>\n",
       "    <tr>\n",
       "      <th>33890438</th>\n",
       "      <td>490818039</td>\n",
       "      <td>2019-07-19</td>\n",
       "      <td>33832040</td>\n",
       "      <td>Ana</td>\n",
       "      <td>Supe bien ubicada, muy cómoda, excelente atención</td>\n",
       "    </tr>\n",
       "    <tr>\n",
       "      <th>33890438</th>\n",
       "      <td>491318431</td>\n",
       "      <td>2019-07-20</td>\n",
       "      <td>20990295</td>\n",
       "      <td>Louis</td>\n",
       "      <td>Perfect spot very close to the tram. Home was very clean and stylish and would love to stay here again!</td>\n",
       "    </tr>\n",
       "    <tr>\n",
       "      <th>33890438</th>\n",
       "      <td>510548709</td>\n",
       "      <td>2019-08-16</td>\n",
       "      <td>73746379</td>\n",
       "      <td>Bipad Taran</td>\n",
       "      <td>Very nice apartment, enjoyed our stay.</td>\n",
       "    </tr>\n",
       "    <tr>\n",
       "      <th>33890438</th>\n",
       "      <td>519359845</td>\n",
       "      <td>2019-08-28</td>\n",
       "      <td>286657909</td>\n",
       "      <td>Pedro</td>\n",
       "      <td>Very clean and pleasent apartment</td>\n",
       "    </tr>\n",
       "    <tr>\n",
       "      <th>33890438</th>\n",
       "      <td>524110166</td>\n",
       "      <td>2019-09-05</td>\n",
       "      <td>280590976</td>\n",
       "      <td>Kevin</td>\n",
       "      <td>I a great tidy and well laid out unit also close to local transport and short trip in trams or rail to main rail station</td>\n",
       "    </tr>\n",
       "    <tr>\n",
       "      <th>33890438</th>\n",
       "      <td>532087873</td>\n",
       "      <td>2019-09-19</td>\n",
       "      <td>188161354</td>\n",
       "      <td>Mi</td>\n",
       "      <td>Very nice and clean property, comfortable bed,  good location for visiting famous places. Closest train station has very good connection for going outside Vienna and use airport.</td>\n",
       "    </tr>\n",
       "    <tr>\n",
       "      <th>33890438</th>\n",
       "      <td>544452494</td>\n",
       "      <td>2019-10-10</td>\n",
       "      <td>94036387</td>\n",
       "      <td>Matt</td>\n",
       "      <td>This was a great apartment for my friend and i to stay in for the jight.  It was very comfortable and had everything we needed. The hosts were also helpful with quick communication in helping us get settled in and even catered to our request for an early check in.</td>\n",
       "    </tr>\n",
       "    <tr>\n",
       "      <th>33890438</th>\n",
       "      <td>545474014</td>\n",
       "      <td>2019-10-12</td>\n",
       "      <td>20027825</td>\n",
       "      <td>Bryan</td>\n",
       "      <td>Clean , modern, close to rains station and trams</td>\n",
       "    </tr>\n",
       "    <tr>\n",
       "      <th>33890438</th>\n",
       "      <td>554984382</td>\n",
       "      <td>2019-10-27</td>\n",
       "      <td>30332110</td>\n",
       "      <td>Lukáš</td>\n",
       "      <td>Clean, stylish place with profesional communication.</td>\n",
       "    </tr>\n",
       "    <tr>\n",
       "      <th>33890438</th>\n",
       "      <td>557572699</td>\n",
       "      <td>2019-11-01</td>\n",
       "      <td>303647927</td>\n",
       "      <td>Lulu</td>\n",
       "      <td>a cozy apartment, with amazing little touches (including even umbrellas!), quick responses, support and punctuality were beyond our expectations. Thank you so much for an amazing stay in Vienna!</td>\n",
       "    </tr>\n",
       "    <tr>\n",
       "      <th>33890438</th>\n",
       "      <td>559557063</td>\n",
       "      <td>2019-11-04</td>\n",
       "      <td>301599394</td>\n",
       "      <td>Dimitri</td>\n",
       "      <td>Tolle und sehr saubere Wohnung. Vieles befindet sich in Gehdistanz. Für einen Städtetrip in Wien sehr zu empfehlen.</td>\n",
       "    </tr>\n",
       "    <tr>\n",
       "      <th>33890438</th>\n",
       "      <td>565073357</td>\n",
       "      <td>2019-11-17</td>\n",
       "      <td>149031278</td>\n",
       "      <td>Jiří</td>\n",
       "      <td>.</td>\n",
       "    </tr>\n",
       "    <tr>\n",
       "      <th>33890438</th>\n",
       "      <td>566412543</td>\n",
       "      <td>2019-11-19</td>\n",
       "      <td>241076604</td>\n",
       "      <td>Zsombor</td>\n",
       "      <td>The place was very clean and it was in a good location.</td>\n",
       "    </tr>\n",
       "    <tr>\n",
       "      <th>33890438</th>\n",
       "      <td>567677493</td>\n",
       "      <td>2019-11-23</td>\n",
       "      <td>78198625</td>\n",
       "      <td>Kelvin</td>\n",
       "      <td>I couldn't imagine a better place to stay in Vienna. The apartment is huge, very cozy and it's very close to public transit. It has all the appliances you could need on your trip as well. The host has great communication and is very nice.  Highly recommend!</td>\n",
       "    </tr>\n",
       "    <tr>\n",
       "      <th>33890438</th>\n",
       "      <td>569620764</td>\n",
       "      <td>2019-11-27</td>\n",
       "      <td>3521002</td>\n",
       "      <td>Lori A.</td>\n",
       "      <td>Very clean spot and walkable to Upper Belvedere. Warm and cozy, too.</td>\n",
       "    </tr>\n",
       "    <tr>\n",
       "      <th>33890438</th>\n",
       "      <td>576349268</td>\n",
       "      <td>2019-12-13</td>\n",
       "      <td>160354810</td>\n",
       "      <td>Alaina</td>\n",
       "      <td>This beautiful home was perfect for our stay in Vienna! It had everything we needed for an extended stay, and was close to grocery stores, transit, and the beautiful Belvedere palace! &lt;br/&gt;It was exceptionally clean, and wonderfully decorated!  &lt;br/&gt;We felt at home in this lovely apartment and I would recommend it to anyone looking to stay in this beautiful city!</td>\n",
       "    </tr>\n",
       "    <tr>\n",
       "      <th>33890438</th>\n",
       "      <td>577313214</td>\n",
       "      <td>2019-12-15</td>\n",
       "      <td>40990388</td>\n",
       "      <td>Carina</td>\n",
       "      <td>We stayed at Tetiana’s place during a weekend trip to Vienna and enjoyed it very much. The place is spacious, sparkling clean and has a lot of amenities. Especially the kitchen was very well equipped. The neighborhood is also very quiet and public transportation can be reached easily by foot.</td>\n",
       "    </tr>\n",
       "    <tr>\n",
       "      <th>33890438</th>\n",
       "      <td>588166502</td>\n",
       "      <td>2020-01-04</td>\n",
       "      <td>43401543</td>\n",
       "      <td>Gjorgje</td>\n",
       "      <td>Good location, very clean appartement. I spent great week in Vienna with my family</td>\n",
       "    </tr>\n",
       "    <tr>\n",
       "      <th>33890438</th>\n",
       "      <td>601254189</td>\n",
       "      <td>2020-02-03</td>\n",
       "      <td>217480549</td>\n",
       "      <td>姬</td>\n",
       "      <td>非常安静舒适的环境,打扫的非常干净,交通便利,距离火车站也非常近｡</td>\n",
       "    </tr>\n",
       "    <tr>\n",
       "      <th>33890438</th>\n",
       "      <td>602609943</td>\n",
       "      <td>2020-02-07</td>\n",
       "      <td>13075033</td>\n",
       "      <td>Shirley</td>\n",
       "      <td>Great place to stay and rest after a day of exploring! All the furnishings and facilities are of high quality and very well located with easy access to public transport.</td>\n",
       "    </tr>\n",
       "    <tr>\n",
       "      <th>33890438</th>\n",
       "      <td>603329151</td>\n",
       "      <td>2020-02-09</td>\n",
       "      <td>134483614</td>\n",
       "      <td>Jakub M.</td>\n",
       "      <td>Apartment was really nice and clean. Good location.</td>\n",
       "    </tr>\n",
       "    <tr>\n",
       "      <th>33890438</th>\n",
       "      <td>607103470</td>\n",
       "      <td>2020-02-17</td>\n",
       "      <td>20474379</td>\n",
       "      <td>Nina</td>\n",
       "      <td>Amazing appartment. Would recommend!</td>\n",
       "    </tr>\n",
       "    <tr>\n",
       "      <th>33890438</th>\n",
       "      <td>608669452</td>\n",
       "      <td>2020-02-21</td>\n",
       "      <td>219091768</td>\n",
       "      <td>Phil</td>\n",
       "      <td>Très bon séjour, confort, calme, espace!</td>\n",
       "    </tr>\n",
       "    <tr>\n",
       "      <th>33890438</th>\n",
       "      <td>610304100</td>\n",
       "      <td>2020-02-24</td>\n",
       "      <td>139568565</td>\n",
       "      <td>Aysa</td>\n",
       "      <td>Apartment of Tetiana was very comfortable! Its really \"fresh\" apartment! Furniture, sanitary, bed linnen, towls, kichen everything is sparking clean, fresh! It was very nice experience!!! Strongly recommened!!! We will come back for sure!!!</td>\n",
       "    </tr>\n",
       "    <tr>\n",
       "      <th>33890438</th>\n",
       "      <td>611183875</td>\n",
       "      <td>2020-02-26</td>\n",
       "      <td>150972053</td>\n",
       "      <td>Jure</td>\n",
       "      <td>Nice, clean and comfortable place.</td>\n",
       "    </tr>\n",
       "    <tr>\n",
       "      <th>33890438</th>\n",
       "      <td>616961069</td>\n",
       "      <td>2020-03-11</td>\n",
       "      <td>88672321</td>\n",
       "      <td>Claudia</td>\n",
       "      <td>Saubere Wohnung für einen kurzen Aufenthalt in Wien.</td>\n",
       "    </tr>\n",
       "    <tr>\n",
       "      <th>33890438</th>\n",
       "      <td>629444391</td>\n",
       "      <td>2020-06-14</td>\n",
       "      <td>273073439</td>\n",
       "      <td>Ieva</td>\n",
       "      <td>Unser Wochenende in dieser Wohnung war sehr gelungen! Alles super organisiert, alles sehr sauber, Lage sehr gut! Also die Unterkunft ist wirklich empfehlenswert! Vielen Dank!</td>\n",
       "    </tr>\n",
       "    <tr>\n",
       "      <th>33890438</th>\n",
       "      <td>634236618</td>\n",
       "      <td>2020-07-03</td>\n",
       "      <td>47784990</td>\n",
       "      <td>Ana</td>\n",
       "      <td>Way better than the photos! Clean, spacious, a lot of storage, very nice area (safe with stores, little restaurants and the nearby tram goes straight to the center very quick), communication was smooth and the place had nice amenities (bathroom and kitchen towels, tissues, umbrellas, cooking basics, tv with netflix ..). It was a little noisy, but this wasn’t a problem for us. Overall a great experience, would stay again!!</td>\n",
       "    </tr>\n",
       "    <tr>\n",
       "      <th>33890438</th>\n",
       "      <td>634860204</td>\n",
       "      <td>2020-07-05</td>\n",
       "      <td>134648906</td>\n",
       "      <td>Juraj</td>\n",
       "      <td>Great place, great location!</td>\n",
       "    </tr>\n",
       "    <tr>\n",
       "      <th>33890438</th>\n",
       "      <td>636141975</td>\n",
       "      <td>2020-07-09</td>\n",
       "      <td>100424151</td>\n",
       "      <td>Matt &amp; Trisha</td>\n",
       "      <td>Nice location and clean.</td>\n",
       "    </tr>\n",
       "    <tr>\n",
       "      <th>33890438</th>\n",
       "      <td>649389330</td>\n",
       "      <td>2020-08-10</td>\n",
       "      <td>15798366</td>\n",
       "      <td>Arnaud</td>\n",
       "      <td>Nous avons séjourné dans l'appartement pendant tout le mois de juillet 2020.  &lt;br/&gt;&lt;br/&gt;Équipements : L'appartement est situé au premier étage (à environ 2 mètres du sol) et est le premier appartement de l'immeuble. Il  est sécurisé par une caméra de sécurité dans la couloir de l'entrée. L'appartement est particulièrement bien équipé et conviendra parfaitement pour un séjour de longue durée. Pour ce qui est de la cuisine, vous y trouverez un grand frigo et un congélateur, un four, de grands ...</td>\n",
       "    </tr>\n",
       "    <tr>\n",
       "      <th>33890438</th>\n",
       "      <td>651411170</td>\n",
       "      <td>2020-08-15</td>\n",
       "      <td>203659969</td>\n",
       "      <td>Maria</td>\n",
       "      <td>perfect place with a wide variety of appliances for cooking and living a very comfortable life there! hospitable and full of love. &lt;br/&gt;(it has a feeling of hotel rooms a bit, but clean and stylish)</td>\n",
       "    </tr>\n",
       "    <tr>\n",
       "      <th>33890438</th>\n",
       "      <td>654699749</td>\n",
       "      <td>2020-08-22</td>\n",
       "      <td>288801003</td>\n",
       "      <td>Marco Paolo</td>\n",
       "      <td>Vienna è una città magnifica e l'appartamento si trova in una posizione comoda per raggiungere tutte le attrazioni della città.</td>\n",
       "    </tr>\n",
       "    <tr>\n",
       "      <th>33890438</th>\n",
       "      <td>666668345</td>\n",
       "      <td>2020-09-21</td>\n",
       "      <td>366939778</td>\n",
       "      <td>Mateusz</td>\n",
       "      <td>We spent lovely 4 days in this apartment. It is 5 min to Belvedere and 2min to the nearest shop. Train station is not faraway also. The apartament is very clean and the kitchen have everything that you need to cook meals. Host is helpful and respond quickly :)</td>\n",
       "    </tr>\n",
       "    <tr>\n",
       "      <th>33890438</th>\n",
       "      <td>671787395</td>\n",
       "      <td>2020-10-06</td>\n",
       "      <td>4237089</td>\n",
       "      <td>Yizhou Jim</td>\n",
       "      <td>Very safe and peaceful neighborhood. It was conveniently located next to the train station to the airport and 3 stops on the tram to city center. There are also plenty of grocery and food options within a short walk. &lt;br/&gt;&lt;br/&gt;The check-in/out process was very smooth with clear instructions. I would recommend to anyone who is visiting Vienna for short stays.</td>\n",
       "    </tr>\n",
       "    <tr>\n",
       "      <th>33890438</th>\n",
       "      <td>712587669</td>\n",
       "      <td>2020-11-30</td>\n",
       "      <td>105615215</td>\n",
       "      <td>Peter</td>\n",
       "      <td>The pictures say it all in terms of what you can expect - 3.5m ceilings won't leave you with a claustrophobic feel. You are about 6 minutes away from a major transportation hub, so everything is close. Local shopping, Belvedere is a 10 minute walk. All is good.&lt;br/&gt;&lt;br/&gt;When we had a minor issue, communication was swift and on point, resolved it ASAP.&lt;br/&gt;I stayed for over a month and it was good value for money.</td>\n",
       "    </tr>\n",
       "    <tr>\n",
       "      <th>33890438</th>\n",
       "      <td>713232832</td>\n",
       "      <td>2020-12-04</td>\n",
       "      <td>118780466</td>\n",
       "      <td>Ievgenii</td>\n",
       "      <td>Данная квартира расположена в отличном месте. Очень понятно и просто было поселиться- хозяева быстро реагировали на вопросы. Квартира очень чистая, и теплая несмотря на то что на первом этаже. Очень рекомендую квартиру и хозяев</td>\n",
       "    </tr>\n",
       "    <tr>\n",
       "      <th>33890438</th>\n",
       "      <td>714685751</td>\n",
       "      <td>2020-12-11</td>\n",
       "      <td>118780466</td>\n",
       "      <td>Ievgenii</td>\n",
       "      <td>Останавливаюсь в этой квартире уже второй раз. Меня полностью все устраивает - подробно описывал в прошлом отзыве. Спасибо хозяевам!</td>\n",
       "    </tr>\n",
       "    <tr>\n",
       "      <th>33890438</th>\n",
       "      <td>716417187</td>\n",
       "      <td>2020-12-19</td>\n",
       "      <td>30239812</td>\n",
       "      <td>Maria</td>\n",
       "      <td>Can highly recommend this apartment. It is beautiful, sparkling clean, and equipped with all the amenities needed. The locationis great, close by the botanical gardens, with a direct train connection from the airport just a walk away.</td>\n",
       "    </tr>\n",
       "    <tr>\n",
       "      <th>33890438</th>\n",
       "      <td>725461852</td>\n",
       "      <td>2021-01-19</td>\n",
       "      <td>383643933</td>\n",
       "      <td>Denis</td>\n",
       "      <td>Beste unterhalt,mehr als erwartet,ruhig , sehr sehr sauber , gute kommunikation,ich kann jeder weiter empfehlen. Danke und Mit freundlichen Grüßen / Best regards</td>\n",
       "    </tr>\n",
       "    <tr>\n",
       "      <th>33890438</th>\n",
       "      <td>731088902</td>\n",
       "      <td>2021-02-14</td>\n",
       "      <td>372555061</td>\n",
       "      <td>Drazen</td>\n",
       "      <td>Good, solid place - very clean</td>\n",
       "    </tr>\n",
       "  </tbody>\n",
       "</table>\n",
       "</div>"
      ],
      "text/plain": [
       "                   id       date  reviewer_id  reviewer_name  \\\n",
       "listing_id                                                     \n",
       "33890438    445973626 2019-04-30     14107672           Tina   \n",
       "33890438    446421272 2019-05-01    129364311          Samir   \n",
       "33890438    449339312 2019-05-06     31016918    Pierre-Yves   \n",
       "33890438    450392169 2019-05-09     14195102           Gail   \n",
       "33890438    452489528 2019-05-13      4210458  Peter Refsing   \n",
       "33890438    455028185 2019-05-19    103744936           Olga   \n",
       "33890438    457524740 2019-05-24    248576099          David   \n",
       "33890438    463509677 2019-06-03    163012304        Natalia   \n",
       "33890438    467433422 2019-06-10    212086551         Julian   \n",
       "33890438    468837200 2019-06-13    119726922        Philipp   \n",
       "33890438    470452793 2019-06-16       607885          Елена   \n",
       "33890438    476503522 2019-06-26    176445413           Malt   \n",
       "33890438    480167868 2019-07-02     32029441         Petter   \n",
       "33890438    480735725 2019-07-03    271226086        Manfred   \n",
       "33890438    482176236 2019-07-06     84097004           Alex   \n",
       "33890438    483952790 2019-07-08     71639356          Alina   \n",
       "33890438    486104915 2019-07-12     57693037           Alec   \n",
       "33890438    488559950 2019-07-15    131482695          Peter   \n",
       "33890438    490818039 2019-07-19     33832040            Ana   \n",
       "33890438    491318431 2019-07-20     20990295          Louis   \n",
       "33890438    510548709 2019-08-16     73746379    Bipad Taran   \n",
       "33890438    519359845 2019-08-28    286657909          Pedro   \n",
       "33890438    524110166 2019-09-05    280590976          Kevin   \n",
       "33890438    532087873 2019-09-19    188161354             Mi   \n",
       "33890438    544452494 2019-10-10     94036387           Matt   \n",
       "33890438    545474014 2019-10-12     20027825          Bryan   \n",
       "33890438    554984382 2019-10-27     30332110          Lukáš   \n",
       "33890438    557572699 2019-11-01    303647927           Lulu   \n",
       "33890438    559557063 2019-11-04    301599394        Dimitri   \n",
       "33890438    565073357 2019-11-17    149031278           Jiří   \n",
       "33890438    566412543 2019-11-19    241076604        Zsombor   \n",
       "33890438    567677493 2019-11-23     78198625         Kelvin   \n",
       "33890438    569620764 2019-11-27      3521002        Lori A.   \n",
       "33890438    576349268 2019-12-13    160354810         Alaina   \n",
       "33890438    577313214 2019-12-15     40990388         Carina   \n",
       "33890438    588166502 2020-01-04     43401543        Gjorgje   \n",
       "33890438    601254189 2020-02-03    217480549              姬   \n",
       "33890438    602609943 2020-02-07     13075033        Shirley   \n",
       "33890438    603329151 2020-02-09    134483614       Jakub M.   \n",
       "33890438    607103470 2020-02-17     20474379           Nina   \n",
       "33890438    608669452 2020-02-21    219091768           Phil   \n",
       "33890438    610304100 2020-02-24    139568565           Aysa   \n",
       "33890438    611183875 2020-02-26    150972053           Jure   \n",
       "33890438    616961069 2020-03-11     88672321        Claudia   \n",
       "33890438    629444391 2020-06-14    273073439           Ieva   \n",
       "33890438    634236618 2020-07-03     47784990            Ana   \n",
       "33890438    634860204 2020-07-05    134648906          Juraj   \n",
       "33890438    636141975 2020-07-09    100424151  Matt & Trisha   \n",
       "33890438    649389330 2020-08-10     15798366         Arnaud   \n",
       "33890438    651411170 2020-08-15    203659969          Maria   \n",
       "33890438    654699749 2020-08-22    288801003    Marco Paolo   \n",
       "33890438    666668345 2020-09-21    366939778        Mateusz   \n",
       "33890438    671787395 2020-10-06      4237089     Yizhou Jim   \n",
       "33890438    712587669 2020-11-30    105615215          Peter   \n",
       "33890438    713232832 2020-12-04    118780466       Ievgenii   \n",
       "33890438    714685751 2020-12-11    118780466       Ievgenii   \n",
       "33890438    716417187 2020-12-19     30239812          Maria   \n",
       "33890438    725461852 2021-01-19    383643933          Denis   \n",
       "33890438    731088902 2021-02-14    372555061         Drazen   \n",
       "\n",
       "                                                                                                                                                                                                                                                                                                                                                                                                                                                                                                                       comments  \n",
       "listing_id                                                                                                                                                                                                                                                                                                                                                                                                                                                                                                                       \n",
       "33890438                                                                                                                                                                                                                                                                                                                                                                                                                                            Apartment was great, super clean and you can find everything that you need.  \n",
       "33890438                                                                                                                                                                                                                                                                                                                                                                                                                                                                                              Great visit, 5/5 Stars :)  \n",
       "33890438    Très bon emplacement : transports en commun à deux pas, pour rejoindre en quelques minutes le centre de Vienne, les commerces d’alimentation sont très proches, et la rue est très calme.<br/>Appartement lumineux, spacieux (pour un couple), très propre, bien équipé (aménagement neuf). Mention particulière pour la (grande) chambre et son (grand et très confortable) lit ! Belle salle de bain également. Certes, pas de contact particulier, personnalisé, avec les hôtes, mais récupération et dépôt d...  \n",
       "33890438                                                                                                                                                                                Great space - very accommodating team  (appreciated the extra touch of airport transfer) this was a last minute booking on my part so I appreciated the constant and quick contact - The space is very large (by EU standards) and very clean and comfortable  - I was only there less than 24 hours but I would definitely stay again.  \n",
       "33890438                                                                                                                                                                                                                                                                                                                                                                                                                      Very nice and comfortable flat. Perfect as a base for visiting the city as a tourist or for work.  \n",
       "33890438                                                                                                                                                                                                                                                                                                                                                                            Enjoyed our stay! The bed was comfy, they had tea in the cabinets which made us feel right at home. Very clean and spacious accommodations.  \n",
       "33890438                                                                                                                                                                                                                                                                                                                                                                                                                                                                                       Great stay, very nice apartment.  \n",
       "33890438                                                                                                                                                                                                                                                                                                                                                                                                          Гостеприимные, ответственные хозяева. Всегда придут на помощь и уладят все проблемы, остались очень довольны.  \n",
       "33890438                                                                                                                                                                                     Wir waren mit der Unterkunft mehr als zufrieden. Die Wohnung wurde noch einmal blitzsauber gereinigt und früher zur Verfügung gestellt als angekündigt. <br/><br/>Polina und ihr Kollege haben uns immer sofort geantwortet und sind all unseren Wünschen sofort nachgekommen. Wir würden uns freuen noch einmal ihr Gast zu sein.  \n",
       "33890438                                                                                                                                                                                                                                                                                                                                        The apartment is spacious, clean and stylish. In the neighborhood are restaurants, supermarkets and public transportation stations. We can recommend the apartment to everyone!  \n",
       "33890438                                                                                                                                                                                                               Отличные апартаменты, недалеко от вокзала ( 20 мин пешком или 3-я остановка на трамвае, остановка рядимо). Никаких проблем ни с общением, ни с заселением. Есть все необходимое для комфортного проживания. Также есть Стиральная машина. В квартире всегда слегка прохладно, несмотря на жару на улице.  \n",
       "33890438                                                                          Coup de coeur pour cet appartement qui vaut le prix de la location: extrêmement propre (neuf), classe, spacieux bien agencé et super bien équipé (cuisine, frigo et congel), lit et canap hyper confortables, + appart frais pendant les fortes chaleurs car haut de plafond et dans un immeuble très calme.<br/>Sans compter que le quartier est à côté des jardins du belvédère, et super bien desservi par le tram et rennweg à 2 minutes!  \n",
       "33890438                                                                                                                                                                                                                                        Great apartment, with a great location. The place is quite big and very clean, and the hosts were quick to respond to our messages, even though we had a late booking. Only a few minutes away from essential shopping, and Belvedere Palace. Would definitely stay here again!  \n",
       "33890438                                                                                                                                                                                                                                             Apartment ist sehr schön und sauber. Alles vorhanden was man braucht. Lage ist ruhig. Sehr freundlicher Kontakt. Schnelle Rückmeldungen. Check-In und Check-out sehr einfach und unkompliziert. Einkaufsmöglichkeiten und Öffis in ein paar Minuten erreichbar. Alles top.  \n",
       "33890438                                                                                                                                                                                                                                                                                                                                                                                    Beautiful apartments to stay in Vienna. Clean, comfortable, quiet, everything was in place. Close to transport. Very special place.  \n",
       "33890438                                                                                                                                                                                                                                                                                                                                                                                                                             I would like to stay here in my next visit. Nice place and perfect apartment. I recommend   \n",
       "33890438                                                                                                                                                                                                                                                                                                                                                                           Well kept, easily accessible flat with all the amenities. Will recommend to anyone looking to stay in Vienna. Rooms were clean and spacious.  \n",
       "33890438                                                                                                                                                                                                                                                                                                                                                                                                                                      Beautiful and newly renovated apartment with good access to public transportation  \n",
       "33890438                                                                                                                                                                                                                                                                                                                                                                                                                                                                      Supe bien ubicada, muy cómoda, excelente atención  \n",
       "33890438                                                                                                                                                                                                                                                                                                                                                                                                                Perfect spot very close to the tram. Home was very clean and stylish and would love to stay here again!  \n",
       "33890438                                                                                                                                                                                                                                                                                                                                                                                                                                                                                 Very nice apartment, enjoyed our stay.  \n",
       "33890438                                                                                                                                                                                                                                                                                                                                                                                                                                                                                      Very clean and pleasent apartment  \n",
       "33890438                                                                                                                                                                                                                                                                                                                                                                                               I a great tidy and well laid out unit also close to local transport and short trip in trams or rail to main rail station  \n",
       "33890438                                                                                                                                                                                                                                                                                                                                     Very nice and clean property, comfortable bed,  good location for visiting famous places. Closest train station has very good connection for going outside Vienna and use airport.  \n",
       "33890438                                                                                                                                                                                                                                               This was a great apartment for my friend and i to stay in for the jight.  It was very comfortable and had everything we needed. The hosts were also helpful with quick communication in helping us get settled in and even catered to our request for an early check in.  \n",
       "33890438                                                                                                                                                                                                                                                                                                                                                                                                                                                                       Clean , modern, close to rains station and trams  \n",
       "33890438                                                                                                                                                                                                                                                                                                                                                                                                                                                                   Clean, stylish place with profesional communication.  \n",
       "33890438                                                                                                                                                                                                                                                                                                                     a cozy apartment, with amazing little touches (including even umbrellas!), quick responses, support and punctuality were beyond our expectations. Thank you so much for an amazing stay in Vienna!  \n",
       "33890438                                                                                                                                                                                                                                                                                                                                                                                                    Tolle und sehr saubere Wohnung. Vieles befindet sich in Gehdistanz. Für einen Städtetrip in Wien sehr zu empfehlen.  \n",
       "33890438                                                                                                                                                                                                                                                                                                                                                                                                                                                                                                                      .  \n",
       "33890438                                                                                                                                                                                                                                                                                                                                                                                                                                                                The place was very clean and it was in a good location.  \n",
       "33890438                                                                                                                                                                                                                                                      I couldn't imagine a better place to stay in Vienna. The apartment is huge, very cozy and it's very close to public transit. It has all the appliances you could need on your trip as well. The host has great communication and is very nice.  Highly recommend!  \n",
       "33890438                                                                                                                                                                                                                                                                                                                                                                                                                                                   Very clean spot and walkable to Upper Belvedere. Warm and cozy, too.  \n",
       "33890438                                                                                                                                          This beautiful home was perfect for our stay in Vienna! It had everything we needed for an extended stay, and was close to grocery stores, transit, and the beautiful Belvedere palace! <br/>It was exceptionally clean, and wonderfully decorated!  <br/>We felt at home in this lovely apartment and I would recommend it to anyone looking to stay in this beautiful city!  \n",
       "33890438                                                                                                                                                                                                                  We stayed at Tetiana’s place during a weekend trip to Vienna and enjoyed it very much. The place is spacious, sparkling clean and has a lot of amenities. Especially the kitchen was very well equipped. The neighborhood is also very quiet and public transportation can be reached easily by foot.  \n",
       "33890438                                                                                                                                                                                                                                                                                                                                                                                                                                     Good location, very clean appartement. I spent great week in Vienna with my family  \n",
       "33890438                                                                                                                                                                                                                                                                                                                                                                                                                                                                                      非常安静舒适的环境,打扫的非常干净,交通便利,距离火车站也非常近｡  \n",
       "33890438                                                                                                                                                                                                                                                                                                                                              Great place to stay and rest after a day of exploring! All the furnishings and facilities are of high quality and very well located with easy access to public transport.  \n",
       "33890438                                                                                                                                                                                                                                                                                                                                                                                                                                                                    Apartment was really nice and clean. Good location.  \n",
       "33890438                                                                                                                                                                                                                                                                                                                                                                                                                                                                                   Amazing appartment. Would recommend!  \n",
       "33890438                                                                                                                                                                                                                                                                                                                                                                                                                                                                               Très bon séjour, confort, calme, espace!  \n",
       "33890438                                                                                                                                                                                                                                                                       Apartment of Tetiana was very comfortable! Its really \"fresh\" apartment! Furniture, sanitary, bed linnen, towls, kichen everything is sparking clean, fresh! It was very nice experience!!! Strongly recommened!!! We will come back for sure!!!  \n",
       "33890438                                                                                                                                                                                                                                                                                                                                                                                                                                                                                     Nice, clean and comfortable place.  \n",
       "33890438                                                                                                                                                                                                                                                                                                                                                                                                                                                                   Saubere Wohnung für einen kurzen Aufenthalt in Wien.  \n",
       "33890438                                                                                                                                                                                                                                                                                                                                         Unser Wochenende in dieser Wohnung war sehr gelungen! Alles super organisiert, alles sehr sauber, Lage sehr gut! Also die Unterkunft ist wirklich empfehlenswert! Vielen Dank!  \n",
       "33890438                                                                              Way better than the photos! Clean, spacious, a lot of storage, very nice area (safe with stores, little restaurants and the nearby tram goes straight to the center very quick), communication was smooth and the place had nice amenities (bathroom and kitchen towels, tissues, umbrellas, cooking basics, tv with netflix ..). It was a little noisy, but this wasn’t a problem for us. Overall a great experience, would stay again!!  \n",
       "33890438                                                                                                                                                                                                                                                                                                                                                                                                                                                                                           Great place, great location!  \n",
       "33890438                                                                                                                                                                                                                                                                                                                                                                                                                                                                                               Nice location and clean.  \n",
       "33890438    Nous avons séjourné dans l'appartement pendant tout le mois de juillet 2020.  <br/><br/>Équipements : L'appartement est situé au premier étage (à environ 2 mètres du sol) et est le premier appartement de l'immeuble. Il  est sécurisé par une caméra de sécurité dans la couloir de l'entrée. L'appartement est particulièrement bien équipé et conviendra parfaitement pour un séjour de longue durée. Pour ce qui est de la cuisine, vous y trouverez un grand frigo et un congélateur, un four, de grands ...  \n",
       "33890438                                                                                                                                                                                                                                                                                                                 perfect place with a wide variety of appliances for cooking and living a very comfortable life there! hospitable and full of love. <br/>(it has a feeling of hotel rooms a bit, but clean and stylish)  \n",
       "33890438                                                                                                                                                                                                                                                                                                                                                                                        Vienna è una città magnifica e l'appartamento si trova in una posizione comoda per raggiungere tutte le attrazioni della città.  \n",
       "33890438                                                                                                                                                                                                                                                   We spent lovely 4 days in this apartment. It is 5 min to Belvedere and 2min to the nearest shop. Train station is not faraway also. The apartament is very clean and the kitchen have everything that you need to cook meals. Host is helpful and respond quickly :)  \n",
       "33890438                                                                                                                                               Very safe and peaceful neighborhood. It was conveniently located next to the train station to the airport and 3 stops on the tram to city center. There are also plenty of grocery and food options within a short walk. <br/><br/>The check-in/out process was very smooth with clear instructions. I would recommend to anyone who is visiting Vienna for short stays.  \n",
       "33890438                                                                                       The pictures say it all in terms of what you can expect - 3.5m ceilings won't leave you with a claustrophobic feel. You are about 6 minutes away from a major transportation hub, so everything is close. Local shopping, Belvedere is a 10 minute walk. All is good.<br/><br/>When we had a minor issue, communication was swift and on point, resolved it ASAP.<br/>I stayed for over a month and it was good value for money.  \n",
       "33890438                                                                                                                                                                                                                                                                                    Данная квартира расположена в отличном месте. Очень понятно и просто было поселиться- хозяева быстро реагировали на вопросы. Квартира очень чистая, и теплая несмотря на то что на первом этаже. Очень рекомендую квартиру и хозяев  \n",
       "33890438                                                                                                                                                                                                                                                                                                                                                                                   Останавливаюсь в этой квартире уже второй раз. Меня полностью все устраивает - подробно описывал в прошлом отзыве. Спасибо хозяевам!  \n",
       "33890438                                                                                                                                                                                                                                                                             Can highly recommend this apartment. It is beautiful, sparkling clean, and equipped with all the amenities needed. The locationis great, close by the botanical gardens, with a direct train connection from the airport just a walk away.  \n",
       "33890438                                                                                                                                                                                                                                                                                                                                                     Beste unterhalt,mehr als erwartet,ruhig , sehr sehr sauber , gute kommunikation,ich kann jeder weiter empfehlen. Danke und Mit freundlichen Grüßen / Best regards   \n",
       "33890438                                                                                                                                                                                                                                                                                                                                                                                                                                                                                         Good, solid place - very clean  "
      ]
     },
     "execution_count": 25,
     "metadata": {},
     "output_type": "execute_result"
    }
   ],
   "source": [
    "reviews_details.loc[33890438]"
   ]
  },
  {
   "cell_type": "code",
   "execution_count": 26,
   "id": "c99d9b5d-5bd9-4339-88e7-2ec925a9a516",
   "metadata": {
    "collapsed": true,
    "jupyter": {
     "outputs_hidden": true
    },
    "tags": []
   },
   "outputs": [
    {
     "name": "stdout",
     "output_type": "stream",
     "text": [
      "75\n",
      "25\n",
      "531\n",
      "327\n",
      "97\n",
      "139\n",
      "32\n",
      "109\n",
      "322\n",
      "175\n",
      "296\n",
      "429\n",
      "271\n",
      "266\n",
      "131\n",
      "90\n",
      "140\n",
      "81\n",
      "49\n",
      "103\n",
      "38\n",
      "33\n",
      "120\n",
      "178\n",
      "264\n",
      "48\n",
      "52\n",
      "194\n",
      "115\n",
      "1\n",
      "55\n",
      "257\n",
      "68\n",
      "365\n",
      "293\n",
      "82\n",
      "33\n",
      "169\n",
      "51\n",
      "36\n",
      "40\n",
      "240\n",
      "34\n",
      "52\n",
      "174\n",
      "425\n",
      "28\n",
      "24\n",
      "6243\n",
      "198\n",
      "127\n",
      "260\n",
      "360\n",
      "416\n",
      "227\n",
      "132\n",
      "234\n",
      "162\n",
      "30\n"
     ]
    }
   ],
   "source": [
    "for review in reviews_details.loc[33890438].comments:\n",
    "    print(len(review))"
   ]
  },
  {
   "cell_type": "code",
   "execution_count": 27,
   "id": "67fafe36-8a34-4b95-be77-5739b5999796",
   "metadata": {
    "collapsed": true,
    "jupyter": {
     "outputs_hidden": true
    },
    "tags": []
   },
   "outputs": [
    {
     "data": {
      "text/plain": [
       "id\n",
       "445973626      75\n",
       "446421272      25\n",
       "449339312     531\n",
       "450392169     327\n",
       "452489528      97\n",
       "455028185     139\n",
       "457524740      32\n",
       "463509677     109\n",
       "467433422     322\n",
       "468837200     175\n",
       "470452793     296\n",
       "476503522     429\n",
       "480167868     271\n",
       "480735725     266\n",
       "482176236     131\n",
       "483952790      90\n",
       "486104915     140\n",
       "488559950      81\n",
       "490818039      49\n",
       "491318431     103\n",
       "510548709      38\n",
       "519359845      33\n",
       "524110166     120\n",
       "532087873     178\n",
       "544452494     264\n",
       "545474014      48\n",
       "554984382      52\n",
       "557572699     194\n",
       "559557063     115\n",
       "565073357       1\n",
       "566412543      55\n",
       "567677493     257\n",
       "569620764      68\n",
       "576349268     365\n",
       "577313214     293\n",
       "588166502      82\n",
       "601254189      33\n",
       "602609943     169\n",
       "603329151      51\n",
       "607103470      36\n",
       "608669452      40\n",
       "610304100     240\n",
       "611183875      34\n",
       "616961069      52\n",
       "629444391     174\n",
       "634236618     425\n",
       "634860204      28\n",
       "636141975      24\n",
       "649389330    6243\n",
       "651411170     198\n",
       "654699749     127\n",
       "666668345     260\n",
       "671787395     360\n",
       "712587669     416\n",
       "713232832     227\n",
       "714685751     132\n",
       "716417187     234\n",
       "725461852     162\n",
       "731088902      30\n",
       "Name: comments, dtype: int64"
      ]
     },
     "execution_count": 27,
     "metadata": {},
     "output_type": "execute_result"
    }
   ],
   "source": [
    "#ilgiausio komentaro id\n",
    "reviews_details.loc[33890438].set_index(\"id\")[\"comments\"].str.len()"
   ]
  },
  {
   "cell_type": "markdown",
   "id": "ad74df96-f0c1-4eb6-8a23-abf839acafca",
   "metadata": {},
   "source": [
    ">> 6. Daugiausiai komentarų turinti vieta"
   ]
  },
  {
   "cell_type": "code",
   "execution_count": 29,
   "id": "e9c22611-4db3-4f88-9d4c-6f10b6e9d157",
   "metadata": {},
   "outputs": [
    {
     "data": {
      "text/plain": [
       "listing_id\n",
       "90247    631\n",
       "Name: id, dtype: int64"
      ]
     },
     "execution_count": 29,
     "metadata": {},
     "output_type": "execute_result"
    }
   ],
   "source": [
    "reviews_details.groupby(\"listing_id\")[\"id\"].count(\n",
    ").sort_values(ascending=False).head(1)"
   ]
  },
  {
   "cell_type": "code",
   "execution_count": 30,
   "id": "cb9233b0-40d8-4478-ac48-5d7921d59d5a",
   "metadata": {
    "collapsed": true,
    "jupyter": {
     "outputs_hidden": true
    },
    "tags": []
   },
   "outputs": [
    {
     "data": {
      "text/html": [
       "<div>\n",
       "<style scoped>\n",
       "    .dataframe tbody tr th:only-of-type {\n",
       "        vertical-align: middle;\n",
       "    }\n",
       "\n",
       "    .dataframe tbody tr th {\n",
       "        vertical-align: top;\n",
       "    }\n",
       "\n",
       "    .dataframe thead th {\n",
       "        text-align: right;\n",
       "    }\n",
       "</style>\n",
       "<table border=\"1\" class=\"dataframe\">\n",
       "  <thead>\n",
       "    <tr style=\"text-align: right;\">\n",
       "      <th></th>\n",
       "      <th>id</th>\n",
       "      <th>date</th>\n",
       "      <th>reviewer_id</th>\n",
       "      <th>reviewer_name</th>\n",
       "      <th>comments</th>\n",
       "    </tr>\n",
       "    <tr>\n",
       "      <th>listing_id</th>\n",
       "      <th></th>\n",
       "      <th></th>\n",
       "      <th></th>\n",
       "      <th></th>\n",
       "      <th></th>\n",
       "    </tr>\n",
       "  </thead>\n",
       "  <tbody>\n",
       "    <tr>\n",
       "      <th>90247</th>\n",
       "      <td>234451</td>\n",
       "      <td>2011-04-21</td>\n",
       "      <td>384043</td>\n",
       "      <td>Erick</td>\n",
       "      <td>This apartment was perfect for our vacation visit. The location is great-- the place is within walking distance of the independently owned Neubaugasse shops, great food and the Museums Quarter. Public transportation is easily accessible; the buses and trams come often and are located very close to the underground system. The apartment itself is tastefully and beautifully decorated. The environment is very clean and equipped kitchen, wireless internet, and cable television. \\r&lt;br/&gt;\\r&lt;br/&gt;Dian...</td>\n",
       "    </tr>\n",
       "    <tr>\n",
       "      <th>90247</th>\n",
       "      <td>241264</td>\n",
       "      <td>2011-04-26</td>\n",
       "      <td>480350</td>\n",
       "      <td>Siu Ling</td>\n",
       "      <td>Diana has a great place and its near the center.  I enjoy her enironment b/c i travel a lot for business and it was nice to be in a foreign city for the first time but I had the feeling i was at home.  I recommend diana's place and I will visit again.  Thank you!</td>\n",
       "    </tr>\n",
       "    <tr>\n",
       "      <th>90247</th>\n",
       "      <td>245651</td>\n",
       "      <td>2011-04-30</td>\n",
       "      <td>316200</td>\n",
       "      <td>William</td>\n",
       "      <td>This apartment is our new benchmark in excellence!!  Every detail is beautifully thought out and a real pleasure to stay in.  Fast Wifi, fresh ground coffee, perfect temperature control on the hot water, great neighborhood and an overall elegant feeling.  Great job!!  We thoroughly enjoyed our stay.</td>\n",
       "    </tr>\n",
       "    <tr>\n",
       "      <th>90247</th>\n",
       "      <td>251361</td>\n",
       "      <td>2011-05-04</td>\n",
       "      <td>69295</td>\n",
       "      <td>Vanessa</td>\n",
       "      <td>We stayed in Diana's lovely, spacious apartment for just shy of a week-- it couldn't have been more beautifully appointed, nor more perfectly located, just a short walk away from the Museum Quarter and the Naschmarkt (our two favorite destinations).  Diana's thought of everything, from extra towels to cushy bathrobes-- if I ever pass through Vienna again, I will head straight to her place!</td>\n",
       "    </tr>\n",
       "    <tr>\n",
       "      <th>90247</th>\n",
       "      <td>265596</td>\n",
       "      <td>2011-05-16</td>\n",
       "      <td>481594</td>\n",
       "      <td>Wai Tung Hal</td>\n",
       "      <td>Diana is very responsive when I was making the arrangements . When we arrive, we received from her bottles of good wine as a welcome gift. Diana also written down many useful information to help us getting around and finding things to do and restaurants to eat. She is an excellent host. The apartment is beautiful, very spacious, airy, sunny, quiet, calming, and meticulously maintained. The location is quite central, yet quiet and safe at night. It was a short walk through a nice street with ...</td>\n",
       "    </tr>\n",
       "    <tr>\n",
       "      <th>...</th>\n",
       "      <td>...</td>\n",
       "      <td>...</td>\n",
       "      <td>...</td>\n",
       "      <td>...</td>\n",
       "      <td>...</td>\n",
       "    </tr>\n",
       "    <tr>\n",
       "      <th>90247</th>\n",
       "      <td>669556401</td>\n",
       "      <td>2020-09-30</td>\n",
       "      <td>15477480</td>\n",
       "      <td>Andreas</td>\n",
       "      <td>Great flat in a great location - everything was really fine. Great communication with the host and very flexible with the check-in! Thx</td>\n",
       "    </tr>\n",
       "    <tr>\n",
       "      <th>90247</th>\n",
       "      <td>700752080</td>\n",
       "      <td>2020-10-16</td>\n",
       "      <td>145637056</td>\n",
       "      <td>Victor</td>\n",
       "      <td>Great flat</td>\n",
       "    </tr>\n",
       "    <tr>\n",
       "      <th>90247</th>\n",
       "      <td>702276051</td>\n",
       "      <td>2020-10-20</td>\n",
       "      <td>118928220</td>\n",
       "      <td>Barbara</td>\n",
       "      <td>Gemütlich Wohnung! Wir hatten einen feinen Aufenthalt. Alles nötige ist vorhanden. Die Buchung war sehr kurzfristig - die Antwort kam sehr schnell. Unkompliziert Check-in. Empfehlenswert!</td>\n",
       "    </tr>\n",
       "    <tr>\n",
       "      <th>90247</th>\n",
       "      <td>703238301</td>\n",
       "      <td>2020-10-24</td>\n",
       "      <td>82430344</td>\n",
       "      <td>Mehiddine</td>\n",
       "      <td>Great place. Location is very convenient. Walking distance from Mariahilf street. Great amenities. I enjoyed it with my wife and daughter a lot as the location is very calm and no outside noise occurs. Only comment is to add a blind in the bathroom as there's a window which is not covered to the outside. Other than that. Great apartment.</td>\n",
       "    </tr>\n",
       "    <tr>\n",
       "      <th>90247</th>\n",
       "      <td>705762503</td>\n",
       "      <td>2020-11-01</td>\n",
       "      <td>10811775</td>\n",
       "      <td>Claudia</td>\n",
       "      <td>Perfekt.</td>\n",
       "    </tr>\n",
       "  </tbody>\n",
       "</table>\n",
       "<p>631 rows × 5 columns</p>\n",
       "</div>"
      ],
      "text/plain": [
       "                   id       date  reviewer_id reviewer_name  \\\n",
       "listing_id                                                    \n",
       "90247          234451 2011-04-21       384043         Erick   \n",
       "90247          241264 2011-04-26       480350      Siu Ling   \n",
       "90247          245651 2011-04-30       316200       William   \n",
       "90247          251361 2011-05-04        69295       Vanessa   \n",
       "90247          265596 2011-05-16       481594  Wai Tung Hal   \n",
       "...               ...        ...          ...           ...   \n",
       "90247       669556401 2020-09-30     15477480       Andreas   \n",
       "90247       700752080 2020-10-16    145637056        Victor   \n",
       "90247       702276051 2020-10-20    118928220       Barbara   \n",
       "90247       703238301 2020-10-24     82430344     Mehiddine   \n",
       "90247       705762503 2020-11-01     10811775       Claudia   \n",
       "\n",
       "                                                                                                                                                                                                                                                                                                                                                                                                                                                                                                                       comments  \n",
       "listing_id                                                                                                                                                                                                                                                                                                                                                                                                                                                                                                                       \n",
       "90247       This apartment was perfect for our vacation visit. The location is great-- the place is within walking distance of the independently owned Neubaugasse shops, great food and the Museums Quarter. Public transportation is easily accessible; the buses and trams come often and are located very close to the underground system. The apartment itself is tastefully and beautifully decorated. The environment is very clean and equipped kitchen, wireless internet, and cable television. \\r<br/>\\r<br/>Dian...  \n",
       "90247                                                                                                                                                                                                                                                 Diana has a great place and its near the center.  I enjoy her enironment b/c i travel a lot for business and it was nice to be in a foreign city for the first time but I had the feeling i was at home.  I recommend diana's place and I will visit again.  Thank you!    \n",
       "90247                                                                                                                                                                                                            This apartment is our new benchmark in excellence!!  Every detail is beautifully thought out and a real pleasure to stay in.  Fast Wifi, fresh ground coffee, perfect temperature control on the hot water, great neighborhood and an overall elegant feeling.  Great job!!  We thoroughly enjoyed our stay.    \n",
       "90247                                                                                                                  We stayed in Diana's lovely, spacious apartment for just shy of a week-- it couldn't have been more beautifully appointed, nor more perfectly located, just a short walk away from the Museum Quarter and the Naschmarkt (our two favorite destinations).  Diana's thought of everything, from extra towels to cushy bathrobes-- if I ever pass through Vienna again, I will head straight to her place!  \n",
       "90247       Diana is very responsive when I was making the arrangements . When we arrive, we received from her bottles of good wine as a welcome gift. Diana also written down many useful information to help us getting around and finding things to do and restaurants to eat. She is an excellent host. The apartment is beautiful, very spacious, airy, sunny, quiet, calming, and meticulously maintained. The location is quite central, yet quiet and safe at night. It was a short walk through a nice street with ...  \n",
       "...                                                                                                                                                                                                                                                                                                                                                                                                                                                                                                                         ...  \n",
       "90247                                                                                                                                                                                                                                                                                                                                                                                   Great flat in a great location - everything was really fine. Great communication with the host and very flexible with the check-in! Thx  \n",
       "90247                                                                                                                                                                                                                                                                                                                                                                                                                                                                                                                Great flat  \n",
       "90247                                                                                                                                                                                                                                                                                                                               Gemütlich Wohnung! Wir hatten einen feinen Aufenthalt. Alles nötige ist vorhanden. Die Buchung war sehr kurzfristig - die Antwort kam sehr schnell. Unkompliziert Check-in. Empfehlenswert!  \n",
       "90247                                                                                                                                                                       Great place. Location is very convenient. Walking distance from Mariahilf street. Great amenities. I enjoyed it with my wife and daughter a lot as the location is very calm and no outside noise occurs. Only comment is to add a blind in the bathroom as there's a window which is not covered to the outside. Other than that. Great apartment.  \n",
       "90247                                                                                                                                                                                                                                                                                                                                                                                                                                                                                                                  Perfekt.  \n",
       "\n",
       "[631 rows x 5 columns]"
      ]
     },
     "execution_count": 30,
     "metadata": {},
     "output_type": "execute_result"
    }
   ],
   "source": [
    "reviews_details.loc[90247]"
   ]
  },
  {
   "cell_type": "markdown",
   "id": "d943138f-6460-473b-8b1d-30c16bdc2f75",
   "metadata": {},
   "source": [
    ">> 7. Iš komentarų datų (reviews) suraskite kada daugiausiai turistų mieste (plot comments vs dates)"
   ]
  },
  {
   "cell_type": "code",
   "execution_count": 31,
   "id": "ffc675f8-65ba-4eaa-a287-1b6eedd245b2",
   "metadata": {},
   "outputs": [
    {
     "data": {
      "text/html": [
       "<div>\n",
       "<style scoped>\n",
       "    .dataframe tbody tr th:only-of-type {\n",
       "        vertical-align: middle;\n",
       "    }\n",
       "\n",
       "    .dataframe tbody tr th {\n",
       "        vertical-align: top;\n",
       "    }\n",
       "\n",
       "    .dataframe thead th {\n",
       "        text-align: right;\n",
       "    }\n",
       "</style>\n",
       "<table border=\"1\" class=\"dataframe\">\n",
       "  <thead>\n",
       "    <tr style=\"text-align: right;\">\n",
       "      <th></th>\n",
       "      <th>date</th>\n",
       "    </tr>\n",
       "    <tr>\n",
       "      <th>listing_id</th>\n",
       "      <th></th>\n",
       "    </tr>\n",
       "  </thead>\n",
       "  <tbody>\n",
       "    <tr>\n",
       "      <th>15883</th>\n",
       "      <td>2015-04-10</td>\n",
       "    </tr>\n",
       "    <tr>\n",
       "      <th>15883</th>\n",
       "      <td>2016-06-19</td>\n",
       "    </tr>\n",
       "    <tr>\n",
       "      <th>15883</th>\n",
       "      <td>2016-07-29</td>\n",
       "    </tr>\n",
       "    <tr>\n",
       "      <th>15883</th>\n",
       "      <td>2016-08-13</td>\n",
       "    </tr>\n",
       "    <tr>\n",
       "      <th>15883</th>\n",
       "      <td>2016-11-21</td>\n",
       "    </tr>\n",
       "  </tbody>\n",
       "</table>\n",
       "</div>"
      ],
      "text/plain": [
       "                 date\n",
       "listing_id           \n",
       "15883      2015-04-10\n",
       "15883      2016-06-19\n",
       "15883      2016-07-29\n",
       "15883      2016-08-13\n",
       "15883      2016-11-21"
      ]
     },
     "execution_count": 31,
     "metadata": {},
     "output_type": "execute_result"
    }
   ],
   "source": [
    "reviews.head()"
   ]
  },
  {
   "cell_type": "code",
   "execution_count": 32,
   "id": "ec63de2c-ecb6-4f3b-83d9-9ff278bb88bd",
   "metadata": {},
   "outputs": [
    {
     "data": {
      "text/html": [
       "<div>\n",
       "<style scoped>\n",
       "    .dataframe tbody tr th:only-of-type {\n",
       "        vertical-align: middle;\n",
       "    }\n",
       "\n",
       "    .dataframe tbody tr th {\n",
       "        vertical-align: top;\n",
       "    }\n",
       "\n",
       "    .dataframe thead th {\n",
       "        text-align: right;\n",
       "    }\n",
       "</style>\n",
       "<table border=\"1\" class=\"dataframe\">\n",
       "  <thead>\n",
       "    <tr style=\"text-align: right;\">\n",
       "      <th></th>\n",
       "      <th>date</th>\n",
       "      <th>count</th>\n",
       "    </tr>\n",
       "    <tr>\n",
       "      <th>listing_id</th>\n",
       "      <th></th>\n",
       "      <th></th>\n",
       "    </tr>\n",
       "  </thead>\n",
       "  <tbody>\n",
       "    <tr>\n",
       "      <th>15883</th>\n",
       "      <td>2015-04-10</td>\n",
       "      <td>1</td>\n",
       "    </tr>\n",
       "    <tr>\n",
       "      <th>15883</th>\n",
       "      <td>2016-06-19</td>\n",
       "      <td>1</td>\n",
       "    </tr>\n",
       "    <tr>\n",
       "      <th>15883</th>\n",
       "      <td>2016-07-29</td>\n",
       "      <td>1</td>\n",
       "    </tr>\n",
       "    <tr>\n",
       "      <th>15883</th>\n",
       "      <td>2016-08-13</td>\n",
       "      <td>1</td>\n",
       "    </tr>\n",
       "    <tr>\n",
       "      <th>15883</th>\n",
       "      <td>2016-11-21</td>\n",
       "      <td>1</td>\n",
       "    </tr>\n",
       "    <tr>\n",
       "      <th>...</th>\n",
       "      <td>...</td>\n",
       "      <td>...</td>\n",
       "    </tr>\n",
       "    <tr>\n",
       "      <th>51994132</th>\n",
       "      <td>2021-09-11</td>\n",
       "      <td>1</td>\n",
       "    </tr>\n",
       "    <tr>\n",
       "      <th>52049228</th>\n",
       "      <td>2021-09-09</td>\n",
       "      <td>1</td>\n",
       "    </tr>\n",
       "    <tr>\n",
       "      <th>52088234</th>\n",
       "      <td>2021-09-12</td>\n",
       "      <td>1</td>\n",
       "    </tr>\n",
       "    <tr>\n",
       "      <th>52118091</th>\n",
       "      <td>2021-09-10</td>\n",
       "      <td>1</td>\n",
       "    </tr>\n",
       "    <tr>\n",
       "      <th>52118815</th>\n",
       "      <td>2021-09-12</td>\n",
       "      <td>1</td>\n",
       "    </tr>\n",
       "  </tbody>\n",
       "</table>\n",
       "<p>355004 rows × 2 columns</p>\n",
       "</div>"
      ],
      "text/plain": [
       "                 date  count\n",
       "listing_id                  \n",
       "15883      2015-04-10      1\n",
       "15883      2016-06-19      1\n",
       "15883      2016-07-29      1\n",
       "15883      2016-08-13      1\n",
       "15883      2016-11-21      1\n",
       "...               ...    ...\n",
       "51994132   2021-09-11      1\n",
       "52049228   2021-09-09      1\n",
       "52088234   2021-09-12      1\n",
       "52118091   2021-09-10      1\n",
       "52118815   2021-09-12      1\n",
       "\n",
       "[355004 rows x 2 columns]"
      ]
     },
     "execution_count": 32,
     "metadata": {},
     "output_type": "execute_result"
    }
   ],
   "source": [
    "reviews[\"count\"] = 1\n",
    "reviews"
   ]
  },
  {
   "cell_type": "code",
   "execution_count": 33,
   "id": "af05b0b0-8ae1-4ce1-842b-5fc6aa8b1768",
   "metadata": {},
   "outputs": [
    {
     "data": {
      "image/png": "[encoded data removed]",
      "text/plain": [
       "<Figure size 1440x1440 with 1 Axes>"
      ]
     },
     "metadata": {
      "needs_background": "light"
     },
     "output_type": "display_data"
    }
   ],
   "source": [
    "reviews.groupby(\"date\").sum().plot(figsize=(20, 20));"
   ]
  },
  {
   "cell_type": "markdown",
   "id": "433a73c8-679f-448b-8610-9bd40ab5a331",
   "metadata": {},
   "source": [
    ">>8.Rasti anksciausiai pradetus nuomoti apartamentus ir pries kiek laiko nuo dabar buvo pradeta."
   ]
  },
  {
   "cell_type": "code",
   "execution_count": 35,
   "id": "f593b6fc-77c1-4523-a0bb-55b4b8909c1e",
   "metadata": {
    "tags": []
   },
   "outputs": [
    {
     "data": {
      "text/plain": [
       "Index(['name', 'host_id', 'host_name', 'neighbourhood', 'latitude',\n",
       "       'longitude', 'room_type', 'price', 'minimum_nights',\n",
       "       'number_of_reviews', 'last_review', 'reviews_per_month',\n",
       "       'calculated_host_listings_count', 'availability_365',\n",
       "       'number_of_reviews_ltm', 'license', 'property_type', 'accommodates',\n",
       "       'first_review', 'review_scores_value', 'review_scores_cleanliness',\n",
       "       'review_scores_location', 'review_scores_accuracy',\n",
       "       'review_scores_communication', 'review_scores_checkin',\n",
       "       'review_scores_rating', 'maximum_nights', 'listing_url',\n",
       "       'host_is_superhost', 'host_about', 'host_response_time',\n",
       "       'host_response_rate', 'host_since', 'host_verifications', 'amenities',\n",
       "       'accommodates'],\n",
       "      dtype='object')"
      ]
     },
     "execution_count": 35,
     "metadata": {},
     "output_type": "execute_result"
    }
   ],
   "source": [
    "listings.columns"
   ]
  },
  {
   "cell_type": "code",
   "execution_count": 67,
   "id": "ae1a15fe-5c0e-47e7-8d09-95a8af99a870",
   "metadata": {
    "tags": []
   },
   "outputs": [
    {
     "data": {
      "text/plain": [
       "id\n",
       "45199452    2009-05-31\n",
       "20009590    2009-06-03\n",
       "15883       2009-12-11\n",
       "31429288    2009-12-11\n",
       "12634008    2009-12-11\n",
       "Name: host_since, dtype: object"
      ]
     },
     "execution_count": 67,
     "metadata": {},
     "output_type": "execute_result"
    }
   ],
   "source": [
    "top100Id = (listings.sort_values([\"host_id\"])[\"host_since\"])\n",
    "top100Id.head()"
   ]
  },
  {
   "cell_type": "code",
   "execution_count": 109,
   "id": "20f78a11-7bae-483a-a3ef-a9b7eaa38942",
   "metadata": {},
   "outputs": [
    {
     "name": "stdout",
     "output_type": "stream",
     "text": [
      "4540 days, 0:00:00\n",
      " First host started renting his apartament 4540 days, 0:00:00 ago.\n"
     ]
    }
   ],
   "source": [
    "dabar = datetime.date.today()\n",
    "seniausias= datetime.date(2009,5,31)\n",
    "praejo=dabar-seniausias\n",
    "print(praejo)\n",
    "print(f\" First host started renting his apartament {praejo} ago.\")\n"
   ]
  },
  {
   "cell_type": "markdown",
   "id": "4b504985-e1ca-498b-ac2c-60aa587bd089",
   "metadata": {},
   "source": [
    ">>9. kaip kaina priklauso nuo minimalaus rezervuojamu naktu skaiciaus"
   ]
  },
  {
   "cell_type": "code",
   "execution_count": 100,
   "id": "0ff60440-e6a3-480d-9b3d-fc4bfaff14ec",
   "metadata": {},
   "outputs": [
    {
     "data": {
      "text/plain": [
       "Text(0, 0.5, 'price')"
      ]
     },
     "execution_count": 100,
     "metadata": {},
     "output_type": "execute_result"
    },
    {
     "data": {
      "image/png": "[encoded data removed]",
      "text/plain": [
       "<Figure size 432x288 with 1 Axes>"
      ]
     },
     "metadata": {
      "needs_background": "light"
     },
     "output_type": "display_data"
    }
   ],
   "source": [
    "plt.scatter(listings.minimum_nights, listings.price)\n",
    "plt.xlabel(\"rminimum_nights\")\n",
    "plt.ylabel(\"price\")"
   ]
  },
  {
   "cell_type": "code",
   "execution_count": 102,
   "id": "f82c27b3-2cef-4910-b06a-7851805d988f",
   "metadata": {
    "collapsed": true,
    "jupyter": {
     "outputs_hidden": true
    },
    "tags": []
   },
   "outputs": [
    {
     "data": {
      "text/plain": [
       "minimum_nights\n",
       "1        87.337444\n",
       "2        76.471219\n",
       "3        86.007357\n",
       "4        68.933333\n",
       "5        63.676630\n",
       "6        62.258333\n",
       "7        79.936620\n",
       "8        41.571429\n",
       "9        37.555556\n",
       "10       58.250000\n",
       "11       58.000000\n",
       "12       51.000000\n",
       "13       43.095238\n",
       "14       62.532468\n",
       "15       50.695652\n",
       "16       35.000000\n",
       "17       34.500000\n",
       "18       23.000000\n",
       "19       42.000000\n",
       "20       51.794872\n",
       "21       57.936170\n",
       "23       53.500000\n",
       "25       54.666667\n",
       "26      118.000000\n",
       "27       57.500000\n",
       "28       60.197674\n",
       "29       67.631579\n",
       "30       67.670659\n",
       "31       66.950000\n",
       "32       77.000000\n",
       "33       83.000000\n",
       "35       55.500000\n",
       "36       70.000000\n",
       "40       35.000000\n",
       "45       41.000000\n",
       "50      225.750000\n",
       "55       25.000000\n",
       "56       74.000000\n",
       "59       50.000000\n",
       "60       49.250000\n",
       "70       47.000000\n",
       "78       40.000000\n",
       "80       32.200000\n",
       "84       32.000000\n",
       "89       60.000000\n",
       "90      145.727273\n",
       "91      111.000000\n",
       "92       31.000000\n",
       "93       14.333333\n",
       "95       37.500000\n",
       "100      28.000000\n",
       "120     130.545455\n",
       "125      54.000000\n",
       "130      80.000000\n",
       "145      13.000000\n",
       "150     270.500000\n",
       "179      54.000000\n",
       "180      83.928571\n",
       "190      47.500000\n",
       "200      52.500000\n",
       "300      55.333333\n",
       "360     269.750000\n",
       "365      50.800000\n",
       "999      40.000000\n",
       "1000     55.000000\n",
       "1125     19.000000\n",
       "Name: price, dtype: float64"
      ]
     },
     "execution_count": 102,
     "metadata": {},
     "output_type": "execute_result"
    }
   ],
   "source": [
    "listings.groupby(\"minimum_nights\").price.mean()"
   ]
  },
  {
   "cell_type": "code",
   "execution_count": 103,
   "id": "ad814af7-cc69-4b63-9e02-2d388338aad2",
   "metadata": {},
   "outputs": [
    {
     "data": {
      "text/plain": [
       "<AxesSubplot:title={'center':'price'}, xlabel='minimum_nights'>"
      ]
     },
     "execution_count": 103,
     "metadata": {},
     "output_type": "execute_result"
    },
    {
     "data": {
      "image/png": "[encoded data removed]",
      "text/plain": [
       "<Figure size 432x288 with 1 Axes>"
      ]
     },
     "metadata": {
      "needs_background": "light"
     },
     "output_type": "display_data"
    }
   ],
   "source": [
    "listings.boxplot(column=\"price\", by=\"minimum_nights\")"
   ]
  },
  {
   "cell_type": "markdown",
   "id": "22ec38de-863a-49ca-b15a-2480b1483f5c",
   "metadata": {},
   "source": [
    ">>10.kuriu metu vasara daugiausia reviews"
   ]
  },
  {
   "cell_type": "code",
   "execution_count": 123,
   "id": "ae407131-05ab-497c-96b5-55b2536b1939",
   "metadata": {},
   "outputs": [
    {
     "data": {
      "text/plain": [
       "id\n",
       "45199452    2009-05-31\n",
       "20009590    2009-06-03\n",
       "15883       2009-12-11\n",
       "31429288    2009-12-11\n",
       "12634008    2009-12-11\n",
       "Name: host_since, dtype: object"
      ]
     },
     "execution_count": 123,
     "metadata": {},
     "output_type": "execute_result"
    }
   ],
   "source": [
    "since = (listings.sort_values([\"host_id\"])[\"host_since\"])\n",
    "since.head()"
   ]
  },
  {
   "cell_type": "code",
   "execution_count": 124,
   "id": "94836367-947a-467c-aec6-3378ff0bb2b1",
   "metadata": {},
   "outputs": [
    {
     "data": {
      "text/plain": [
       "id\n",
       "52088234    2021-09-03\n",
       "52051383    2021-09-03\n",
       "52086621    2021-09-05\n",
       "52178156    2021-09-10\n",
       "52183498    2021-09-10\n",
       "Name: host_since, dtype: object"
      ]
     },
     "execution_count": 124,
     "metadata": {},
     "output_type": "execute_result"
    }
   ],
   "source": [
    "since = (listings.sort_values([\"host_id\"])[\"host_since\"])\n",
    "since.tail()"
   ]
  },
  {
   "cell_type": "code",
   "execution_count": 116,
   "id": "11ed21c1-e1a3-4f1d-a827-876c08d9db93",
   "metadata": {},
   "outputs": [],
   "source": [
    "reviews['date'] = pd.to_datetime(reviews['date'], format='%Y-%m-%d')"
   ]
  },
  {
   "cell_type": "code",
   "execution_count": 130,
   "id": "29c10e3e-2bf9-48ae-8e10-75506131b137",
   "metadata": {},
   "outputs": [
    {
     "data": {
      "text/html": [
       "<div>\n",
       "<style scoped>\n",
       "    .dataframe tbody tr th:only-of-type {\n",
       "        vertical-align: middle;\n",
       "    }\n",
       "\n",
       "    .dataframe tbody tr th {\n",
       "        vertical-align: top;\n",
       "    }\n",
       "\n",
       "    .dataframe thead th {\n",
       "        text-align: right;\n",
       "    }\n",
       "</style>\n",
       "<table border=\"1\" class=\"dataframe\">\n",
       "  <thead>\n",
       "    <tr style=\"text-align: right;\">\n",
       "      <th></th>\n",
       "      <th>date</th>\n",
       "      <th>count</th>\n",
       "      <th>month</th>\n",
       "    </tr>\n",
       "    <tr>\n",
       "      <th>listing_id</th>\n",
       "      <th></th>\n",
       "      <th></th>\n",
       "      <th></th>\n",
       "    </tr>\n",
       "  </thead>\n",
       "  <tbody>\n",
       "    <tr>\n",
       "      <th>15883</th>\n",
       "      <td>2015-04-10</td>\n",
       "      <td>1</td>\n",
       "      <td>4</td>\n",
       "    </tr>\n",
       "    <tr>\n",
       "      <th>15883</th>\n",
       "      <td>2016-06-19</td>\n",
       "      <td>1</td>\n",
       "      <td>6</td>\n",
       "    </tr>\n",
       "    <tr>\n",
       "      <th>15883</th>\n",
       "      <td>2016-07-29</td>\n",
       "      <td>1</td>\n",
       "      <td>7</td>\n",
       "    </tr>\n",
       "    <tr>\n",
       "      <th>15883</th>\n",
       "      <td>2016-08-13</td>\n",
       "      <td>1</td>\n",
       "      <td>8</td>\n",
       "    </tr>\n",
       "    <tr>\n",
       "      <th>15883</th>\n",
       "      <td>2016-11-21</td>\n",
       "      <td>1</td>\n",
       "      <td>11</td>\n",
       "    </tr>\n",
       "    <tr>\n",
       "      <th>...</th>\n",
       "      <td>...</td>\n",
       "      <td>...</td>\n",
       "      <td>...</td>\n",
       "    </tr>\n",
       "    <tr>\n",
       "      <th>51994132</th>\n",
       "      <td>2021-09-11</td>\n",
       "      <td>1</td>\n",
       "      <td>9</td>\n",
       "    </tr>\n",
       "    <tr>\n",
       "      <th>52049228</th>\n",
       "      <td>2021-09-09</td>\n",
       "      <td>1</td>\n",
       "      <td>9</td>\n",
       "    </tr>\n",
       "    <tr>\n",
       "      <th>52088234</th>\n",
       "      <td>2021-09-12</td>\n",
       "      <td>1</td>\n",
       "      <td>9</td>\n",
       "    </tr>\n",
       "    <tr>\n",
       "      <th>52118091</th>\n",
       "      <td>2021-09-10</td>\n",
       "      <td>1</td>\n",
       "      <td>9</td>\n",
       "    </tr>\n",
       "    <tr>\n",
       "      <th>52118815</th>\n",
       "      <td>2021-09-12</td>\n",
       "      <td>1</td>\n",
       "      <td>9</td>\n",
       "    </tr>\n",
       "  </tbody>\n",
       "</table>\n",
       "<p>355004 rows × 3 columns</p>\n",
       "</div>"
      ],
      "text/plain": [
       "                 date  count  month\n",
       "listing_id                         \n",
       "15883      2015-04-10      1      4\n",
       "15883      2016-06-19      1      6\n",
       "15883      2016-07-29      1      7\n",
       "15883      2016-08-13      1      8\n",
       "15883      2016-11-21      1     11\n",
       "...               ...    ...    ...\n",
       "51994132   2021-09-11      1      9\n",
       "52049228   2021-09-09      1      9\n",
       "52088234   2021-09-12      1      9\n",
       "52118091   2021-09-10      1      9\n",
       "52118815   2021-09-12      1      9\n",
       "\n",
       "[355004 rows x 3 columns]"
      ]
     },
     "execution_count": 130,
     "metadata": {},
     "output_type": "execute_result"
    }
   ],
   "source": [
    "reviews['month']=reviews['date'].dt.month\n",
    "reviews"
   ]
  },
  {
   "cell_type": "code",
   "execution_count": 134,
   "id": "261c1f21-35a5-42be-aeae-f66f7add7618",
   "metadata": {},
   "outputs": [
    {
     "name": "stdout",
     "output_type": "stream",
     "text": [
      "8\n"
     ]
    }
   ],
   "source": [
    "d=reviews['month'].value_counts().idxmax()\n",
    "print(d)"
   ]
  },
  {
   "cell_type": "code",
   "execution_count": 136,
   "id": "fb0778cd-8eff-41dd-9fc2-8b94794e08b2",
   "metadata": {},
   "outputs": [
    {
     "name": "stdout",
     "output_type": "stream",
     "text": [
      " Dazniausiai apartamentai rezervuojami 8a menesi\n"
     ]
    }
   ],
   "source": [
    "print(f\" Dazniausiai apartamentai rezervuojami {d}a menesi\")\n"
   ]
  }
 ],
 "metadata": {
  "kernelspec": {
   "display_name": "Python 3",
   "language": "python",
   "name": "python3"
  },
  "language_info": {
   "codemirror_mode": {
    "name": "ipython",
    "version": 3
   },
   "file_extension": ".py",
   "mimetype": "text/x-python",
   "name": "python",
   "nbconvert_exporter": "python",
   "pygments_lexer": "ipython3",
   "version": "3.8.8"
  }
 },
 "nbformat": 4,
 "nbformat_minor": 5
}
